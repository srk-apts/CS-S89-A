{
 "cells": [
  {
   "cell_type": "markdown",
   "metadata": {},
   "source": [
    "## S89A Deep Learning for NLP\n",
    "## `Assignment 01`    \t\n",
    "## Handed out: 06/24/2019                             \n",
    "## Due by 11:59 PM EST on Tuesday, 07/02/2019\n",
    "## Submitted by: Saurabh Kulkarni"
   ]
  },
  {
   "cell_type": "markdown",
   "metadata": {},
   "source": [
    "### INSTRUCTION: \n",
    "\n",
    "Please, describe every step of your work and present all intermediate and final results in a Word document. If you know how, please be free to organize your submission in one Jupyter notebook.  Please, copy-past text (ASCII) version of all essential commands and snippets of results into the Word document with explanations of the purpose of those commands. We cannot retype text that is in JPG images. Please, always submit a separate copy of the original, working scripts and/or class files you used. Sometimes we need to run your code and retyping is too costly. Please include in your MS Word document all the relevant portions of the console output or output files. PLEASE DO NOT EMBED files into your MS Word document. For issues and comments visit the class Piazza site."
   ]
  },
  {
   "cell_type": "code",
   "execution_count": 1,
   "metadata": {},
   "outputs": [
    {
     "name": "stderr",
     "output_type": "stream",
     "text": [
      "Using TensorFlow backend.\n"
     ]
    }
   ],
   "source": [
    "## Import packages\n",
    "import numpy as np\n",
    "import pandas as pd\n",
    "import matplotlib.pyplot as plt\n",
    "import nltk\n",
    "from keras import Sequential\n",
    "from keras.layers import Dense\n",
    "from sklearn.metrics import r2_score, accuracy_score, confusion_matrix\n",
    "from sklearn.model_selection import train_test_split\n",
    "import collections\n",
    "from nltk.corpus import wordnet as wn\n",
    "from keras.utils import to_categorical"
   ]
  },
  {
   "cell_type": "markdown",
   "metadata": {},
   "source": [
    "### Problem 1 (25%).\n",
    "Use the text of the Universal Declaration of Human Rights (UDHR). Create a table for 4 languages of your choice. Use that table to collect statistics about those languages. Place in that table the number of words in UDHR in each language, number of unique words, average length of words, number of sentences contained in UDHR and average number of words per sentence. You do not have to populate the table from your code. You may, but you may also determine individual values separately and enter them in the table manually.  Create a distribution of sentence lengths for all four language. Distribution of sentence lengths presents the number of sentences of varying length. Plot those (non-cumulative) distributions for all four languages using one diagram. \n"
   ]
  },
  {
   "cell_type": "markdown",
   "metadata": {},
   "source": [
    "### Solution 1:"
   ]
  },
  {
   "cell_type": "markdown",
   "metadata": {},
   "source": [
    "**Step 1:** Download the required nltk packages."
   ]
  },
  {
   "cell_type": "code",
   "execution_count": 2,
   "metadata": {},
   "outputs": [
    {
     "name": "stderr",
     "output_type": "stream",
     "text": [
      "[nltk_data] Downloading package udhr to\n",
      "[nltk_data]     C:\\Users\\A0687514\\AppData\\Roaming\\nltk_data...\n",
      "[nltk_data]   Package udhr is already up-to-date!\n",
      "[nltk_data] Downloading package punkt to\n",
      "[nltk_data]     C:\\Users\\A0687514\\AppData\\Roaming\\nltk_data...\n",
      "[nltk_data]   Package punkt is already up-to-date!\n"
     ]
    }
   ],
   "source": [
    "nltk.download('udhr')\n",
    "nltk.download('punkt')\n",
    "from nltk.corpus import udhr"
   ]
  },
  {
   "cell_type": "code",
   "execution_count": 3,
   "metadata": {},
   "outputs": [
    {
     "data": {
      "text/plain": [
       "['Abkhaz-Cyrillic+Abkh',\n",
       " 'Abkhaz-UTF8',\n",
       " 'Achehnese-Latin1',\n",
       " 'Achuar-Shiwiar-Latin1',\n",
       " 'Adja-UTF8',\n",
       " 'Afaan_Oromo_Oromiffa-Latin1',\n",
       " 'Afrikaans-Latin1',\n",
       " 'Aguaruna-Latin1',\n",
       " 'Akuapem_Twi-UTF8',\n",
       " 'Albanian_Shqip-Latin1',\n",
       " 'Amahuaca',\n",
       " 'Amahuaca-Latin1',\n",
       " 'Amarakaeri-Latin1',\n",
       " 'Amuesha-Yanesha-UTF8',\n",
       " 'Arabela-Latin1',\n",
       " 'Arabic_Alarabia-Arabic',\n",
       " 'Asante-UTF8',\n",
       " 'Ashaninca-Latin1',\n",
       " 'Asheninca-Latin1',\n",
       " 'Asturian_Bable-Latin1',\n",
       " 'Aymara-Latin1',\n",
       " 'Balinese-Latin1',\n",
       " 'Bambara-UTF8',\n",
       " 'Baoule-UTF8',\n",
       " 'Basque_Euskara-Latin1',\n",
       " 'Batonu_Bariba-UTF8',\n",
       " 'Belorus_Belaruski-Cyrillic',\n",
       " 'Belorus_Belaruski-UTF8',\n",
       " 'Bemba-Latin1',\n",
       " 'Bengali-UTF8',\n",
       " 'Beti-UTF8',\n",
       " 'Bichelamar-Latin1',\n",
       " 'Bikol_Bicolano-Latin1',\n",
       " 'Bora-Latin1',\n",
       " 'Bosnian_Bosanski-Cyrillic',\n",
       " 'Bosnian_Bosanski-Latin2',\n",
       " 'Bosnian_Bosanski-UTF8',\n",
       " 'Breton-Latin1',\n",
       " 'Bugisnese-Latin1',\n",
       " 'Bulgarian_Balgarski-Cyrillic',\n",
       " 'Bulgarian_Balgarski-UTF8',\n",
       " 'Cakchiquel-Latin1',\n",
       " 'Campa_Pajonalino-Latin1',\n",
       " 'Candoshi-Shapra-Latin1',\n",
       " 'Caquinte-Latin1',\n",
       " 'Cashibo-Cacataibo-Latin1',\n",
       " 'Cashinahua-Latin1',\n",
       " 'Catalan-Latin1',\n",
       " 'Catalan_Catala-Latin1',\n",
       " 'Cebuano-Latin1',\n",
       " 'Chamorro-Latin1',\n",
       " 'Chayahuita-Latin1',\n",
       " 'Chechewa_Nyanja-Latin1',\n",
       " 'Chickasaw-Latin1',\n",
       " 'Chinanteco-Ajitlan-Latin1',\n",
       " 'Chinanteco-UTF8',\n",
       " 'Chinese_Mandarin-GB2312',\n",
       " 'Chuuk_Trukese-Latin1',\n",
       " 'Cokwe-Latin1',\n",
       " 'Corsican-Latin1',\n",
       " 'Croatian_Hrvatski-Latin2',\n",
       " 'Czech-Latin2',\n",
       " 'Czech-UTF8',\n",
       " 'Czech_Cesky-Latin2',\n",
       " 'Czech_Cesky-UTF8',\n",
       " 'Dagaare-UTF8',\n",
       " 'Dagbani-UTF8',\n",
       " 'Dangme-UTF8',\n",
       " 'Danish_Dansk-Latin1',\n",
       " 'Dendi-UTF8',\n",
       " 'Ditammari-UTF8',\n",
       " 'Dutch_Nederlands-Latin1',\n",
       " 'Edo-Latin1',\n",
       " 'English-Latin1',\n",
       " 'Esperanto-UTF8',\n",
       " 'Estonian_Eesti-Latin1',\n",
       " 'Ewe_Eve-UTF8',\n",
       " 'Fante-UTF8',\n",
       " 'Faroese-Latin1',\n",
       " 'Farsi_Persian-UTF8',\n",
       " 'Farsi_Persian-v2-UTF8',\n",
       " 'Fijian-Latin1',\n",
       " 'Filipino_Tagalog-Latin1',\n",
       " 'Finnish_Suomi-Latin1',\n",
       " 'Fon-UTF8',\n",
       " 'French_Francais-Latin1',\n",
       " 'Frisian-Latin1',\n",
       " 'Friulian_Friulano-Latin1',\n",
       " 'Ga-UTF8',\n",
       " 'Gagauz_Gagauzi-UTF8',\n",
       " 'Galician_Galego-Latin1',\n",
       " 'Garifuna_Garifuna-Latin1',\n",
       " 'German_Deutsch-Latin1',\n",
       " 'Gonja-UTF8',\n",
       " 'Greek_Ellinika-Greek',\n",
       " 'Greek_Ellinika-UTF8',\n",
       " 'Greenlandic_Inuktikut-Latin1',\n",
       " 'Guarani-Latin1',\n",
       " 'Guen_Mina-UTF8',\n",
       " 'HaitianCreole_Kreyol-Latin1',\n",
       " 'HaitianCreole_Popular-Latin1',\n",
       " 'Hani-Latin1',\n",
       " 'Hausa_Haoussa-Latin1',\n",
       " 'Hawaiian-UTF8',\n",
       " 'Hebrew_Ivrit-Hebrew',\n",
       " 'Hebrew_Ivrit-UTF8',\n",
       " 'Hiligaynon-Latin1',\n",
       " 'Hindi-UTF8',\n",
       " 'Hindi_web-UTF8',\n",
       " 'Hmong_Miao-Sichuan-Guizhou-Yunnan-Latin1',\n",
       " 'Hmong_Miao-SouthernEast-Guizhou-Latin1',\n",
       " 'Hmong_Miao_Northern-East-Guizhou-Latin1',\n",
       " 'Hrvatski_Croatian-Latin2',\n",
       " 'Huasteco-Latin1',\n",
       " 'Huitoto_Murui-Latin1',\n",
       " 'Hungarian_Magyar-Latin1',\n",
       " 'Hungarian_Magyar-Latin2',\n",
       " 'Hungarian_Magyar-UTF8',\n",
       " 'Ibibio_Efik-Latin1',\n",
       " 'Icelandic_Yslenska-Latin1',\n",
       " 'Ido-Latin1',\n",
       " 'Igbo-UTF8',\n",
       " 'Iloko_Ilocano-Latin1',\n",
       " 'Indonesian-Latin1',\n",
       " 'Interlingua-Latin1',\n",
       " 'Inuktikut_Greenlandic-Latin1',\n",
       " 'IrishGaelic_Gaeilge-Latin1',\n",
       " 'Italian-Latin1',\n",
       " 'Italian_Italiano-Latin1',\n",
       " 'Japanese_Nihongo-EUC',\n",
       " 'Japanese_Nihongo-SJIS',\n",
       " 'Japanese_Nihongo-UTF8',\n",
       " 'Javanese-Latin1',\n",
       " 'Jola-Fogny_Diola-UTF8',\n",
       " 'Kabye-UTF8',\n",
       " 'Kannada-UTF8',\n",
       " 'Kaonde-Latin1',\n",
       " 'Kapampangan-Latin1',\n",
       " 'Kasem-UTF8',\n",
       " 'Kazakh-Cyrillic',\n",
       " 'Kazakh-UTF8',\n",
       " 'Kiche_Quiche-Latin1',\n",
       " 'Kicongo-Latin1',\n",
       " 'Kimbundu_Mbundu-Latin1',\n",
       " 'Kinyamwezi_Nyamwezi-Latin1',\n",
       " 'Kinyarwanda-Latin1',\n",
       " 'Kituba-Latin1',\n",
       " 'Korean_Hankuko-UTF8',\n",
       " 'Kpelewo-UTF8',\n",
       " 'Krio-UTF8',\n",
       " 'Kurdish-UTF8',\n",
       " 'Lamnso_Lam-nso-UTF8',\n",
       " 'Latin_Latina-Latin1',\n",
       " 'Latin_Latina-v2-Latin1',\n",
       " 'Latvian-Latin1',\n",
       " 'Limba-UTF8',\n",
       " 'Lingala-Latin1',\n",
       " 'Lithuanian_Lietuviskai-Baltic',\n",
       " 'Lozi-Latin1',\n",
       " 'Luba-Kasai_Tshiluba-Latin1',\n",
       " 'Luganda_Ganda-Latin1',\n",
       " 'Lunda_Chokwe-lunda-Latin1',\n",
       " 'Luvale-Latin1',\n",
       " 'Luxembourgish_Letzebuergeusch-Latin1',\n",
       " 'Macedonian-UTF8',\n",
       " 'Madurese-Latin1',\n",
       " 'Makonde-Latin1',\n",
       " 'Malagasy-Latin1',\n",
       " 'Malay_BahasaMelayu-Latin1',\n",
       " 'Maltese-UTF8',\n",
       " 'Mam-Latin1',\n",
       " 'Maninka-UTF8',\n",
       " 'Maori-Latin1',\n",
       " 'Mapudungun_Mapuzgun-Latin1',\n",
       " 'Mapudungun_Mapuzgun-UTF8',\n",
       " 'Marshallese-Latin1',\n",
       " 'Matses-Latin1',\n",
       " 'Mayan_Yucateco-Latin1',\n",
       " 'Mazahua_Jnatrjo-UTF8',\n",
       " 'Mazateco-Latin1',\n",
       " 'Mende-UTF8',\n",
       " 'Mikmaq_Micmac-Mikmaq-Latin1',\n",
       " 'Minangkabau-Latin1',\n",
       " 'Miskito_Miskito-Latin1',\n",
       " 'Mixteco-Latin1',\n",
       " 'Mongolian_Khalkha-Cyrillic',\n",
       " 'Mongolian_Khalkha-UTF8',\n",
       " 'Moore_More-UTF8',\n",
       " 'Nahuatl-Latin1',\n",
       " 'Ndebele-Latin1',\n",
       " 'Nepali-UTF8',\n",
       " 'Ngangela_Nyemba-Latin1',\n",
       " 'NigerianPidginEnglish-Latin1',\n",
       " 'Nomatsiguenga-Latin1',\n",
       " 'NorthernSotho_Pedi-Sepedi-Latin1',\n",
       " 'Norwegian-Latin1',\n",
       " 'Norwegian_Norsk-Bokmal-Latin1',\n",
       " 'Norwegian_Norsk-Nynorsk-Latin1',\n",
       " 'Nyanja_Chechewa-Latin1',\n",
       " 'Nyanja_Chinyanja-Latin1',\n",
       " 'Nzema-UTF8',\n",
       " 'OccitanAuvergnat-Latin1',\n",
       " 'OccitanLanguedocien-Latin1',\n",
       " 'Oromiffa_AfaanOromo-Latin1',\n",
       " 'Osetin_Ossetian-UTF8',\n",
       " 'Oshiwambo_Ndonga-Latin1',\n",
       " 'Otomi_Nahnu-Latin1',\n",
       " 'Paez-Latin1',\n",
       " 'Palauan-Latin1',\n",
       " 'Peuhl-UTF8',\n",
       " 'Picard-Latin1',\n",
       " 'Pipil-Latin1',\n",
       " 'Polish-Latin2',\n",
       " 'Polish_Polski-Latin2',\n",
       " 'Ponapean-Latin1',\n",
       " 'Portuguese_Portugues-Latin1',\n",
       " 'Pulaar-UTF8',\n",
       " 'Punjabi_Panjabi-UTF8',\n",
       " 'Purhepecha-UTF8',\n",
       " 'Qechi_Kekchi-Latin1',\n",
       " 'Quechua-Latin1',\n",
       " 'Quichua-Latin1',\n",
       " 'Rarotongan_MaoriCookIslands-Latin1',\n",
       " 'Rhaeto-Romance_Rumantsch-Latin1',\n",
       " 'Romani-Latin1',\n",
       " 'Romani-UTF8',\n",
       " 'Romanian-Latin2',\n",
       " 'Romanian_Romana-Latin2',\n",
       " 'Rukonzo_Konjo-Latin1',\n",
       " 'Rundi_Kirundi-Latin1',\n",
       " 'Runyankore-rukiga_Nkore-kiga-Latin1',\n",
       " 'Russian-Cyrillic',\n",
       " 'Russian-UTF8',\n",
       " 'Russian_Russky-Cyrillic',\n",
       " 'Russian_Russky-UTF8',\n",
       " 'Sami_Lappish-UTF8',\n",
       " 'Sammarinese-Latin1',\n",
       " 'Samoan-Latin1',\n",
       " 'Sango_Sangho-Latin1',\n",
       " 'Sanskrit-UTF8',\n",
       " 'Saraiki-UTF8',\n",
       " 'Sardinian-Latin1',\n",
       " 'ScottishGaelic_GaidhligAlbanach-Latin1',\n",
       " 'Seereer-UTF8',\n",
       " 'Serbian_Srpski-Cyrillic',\n",
       " 'Serbian_Srpski-Latin2',\n",
       " 'Serbian_Srpski-UTF8',\n",
       " 'Sharanahua-Latin1',\n",
       " 'Shipibo-Conibo-Latin1',\n",
       " 'Shona-Latin1',\n",
       " 'Sinhala-UTF8',\n",
       " 'Siswati-Latin1',\n",
       " 'Slovak-Latin2',\n",
       " 'Slovak_Slovencina-Latin2',\n",
       " 'Slovenian_Slovenscina-Latin2',\n",
       " 'SolomonsPidgin_Pijin-Latin1',\n",
       " 'Somali-Latin1',\n",
       " 'Soninke_Soninkanxaane-UTF8',\n",
       " 'Sorbian-Latin2',\n",
       " 'SouthernSotho_Sotho-Sesotho-Sutu-Sesutu-Latin1',\n",
       " 'Spanish-Latin1',\n",
       " 'Spanish_Espanol-Latin1',\n",
       " 'Sukuma-Latin1',\n",
       " 'Sundanese-Latin1',\n",
       " 'Sussu_Soussou-Sosso-Soso-Susu-UTF8',\n",
       " 'Swaheli-Latin1',\n",
       " 'Swahili_Kiswahili-Latin1',\n",
       " 'Swedish_Svenska-Latin1',\n",
       " 'Tahitian-UTF8',\n",
       " 'Tenek_Huasteco-Latin1',\n",
       " 'Tetum-Latin1',\n",
       " 'Themne_Temne-UTF8',\n",
       " 'Tiv-Latin1',\n",
       " 'Toba-UTF8',\n",
       " 'Tojol-abal-Latin1',\n",
       " 'TokPisin-Latin1',\n",
       " 'Tonga-Latin1',\n",
       " 'Tongan_Tonga-Latin1',\n",
       " 'Totonaco-Latin1',\n",
       " 'Trukese_Chuuk-Latin1',\n",
       " 'Turkish_Turkce-Turkish',\n",
       " 'Turkish_Turkce-UTF8',\n",
       " 'Tzeltal-Latin1',\n",
       " 'Tzotzil-Latin1',\n",
       " 'Uighur_Uyghur-Latin1',\n",
       " 'Uighur_Uyghur-UTF8',\n",
       " 'Ukrainian-Cyrillic',\n",
       " 'Ukrainian-UTF8',\n",
       " 'Umbundu-Latin1',\n",
       " 'Urarina-Latin1',\n",
       " 'Uzbek-Latin1',\n",
       " 'Vietnamese-ALRN-UTF8',\n",
       " 'Vietnamese-UTF8',\n",
       " 'Vlach-Latin1',\n",
       " 'Walloon_Wallon-Latin1',\n",
       " 'Wama-UTF8',\n",
       " 'Waray-Latin1',\n",
       " 'Wayuu-Latin1',\n",
       " 'Welsh_Cymraeg-Latin1',\n",
       " 'WesternSotho_Tswana-Setswana-Latin1',\n",
       " 'Wolof-Latin1',\n",
       " 'Xhosa-Latin1',\n",
       " 'Yagua-Latin1',\n",
       " 'Yao-Latin1',\n",
       " 'Yapese-Latin1',\n",
       " 'Yoruba-UTF8',\n",
       " 'Zapoteco-Latin1',\n",
       " 'Zapoteco-SanLucasQuiavini-Latin1',\n",
       " 'Zhuang-Latin1',\n",
       " 'Zulu-Latin1']"
      ]
     },
     "execution_count": 3,
     "metadata": {},
     "output_type": "execute_result"
    }
   ],
   "source": [
    "udhr.fileids()"
   ]
  },
  {
   "cell_type": "markdown",
   "metadata": {},
   "source": [
    "**Step 2:** Here we loop over four languages selected from the list `udhr.fileids()` and collect the statistics asked in the question. \n",
    "- `udhr.words()` and `udhr.sents()` gives us a list of all the words and sentences, respectively, present in UDHR.\n",
    "- The total number of words, unique words and number of sentences are counted by simply counting the number of items in the list.\n",
    "- We loop over all words and sentences and store word lengths and sentence lengths in a list. And then calculate the averages using these lists."
   ]
  },
  {
   "cell_type": "code",
   "execution_count": 4,
   "metadata": {},
   "outputs": [],
   "source": [
    "lang = ['English-Latin1', 'Hindi-UTF8', 'Kannada-UTF8', 'Hebrew_Ivrit-Hebrew']\n",
    "udhr_stats_dict = {}\n",
    "sents_len_dict = {}\n",
    "\n",
    "for l in lang:\n",
    "    \n",
    "    udhr_words = udhr.words(l)\n",
    "    n_words = len(udhr_words)\n",
    "    n_unique = len(np.unique(udhr_words))\n",
    "\n",
    "    word_len = []\n",
    "    for w in udhr_words:\n",
    "        word_len.append(len(w))\n",
    "\n",
    "    avg_word_len = np.mean(word_len)\n",
    "\n",
    "    udhr_sents = udhr.sents(l)\n",
    "    n_sents = len(udhr_sents)\n",
    "\n",
    "    sent_len = []\n",
    "    for s in udhr_sents:\n",
    "        sent_len.append(len(s))\n",
    "        \n",
    "    sents_len_dict[l] = sent_len\n",
    "\n",
    "    avg_sent_len = np.mean(sent_len)\n",
    "\n",
    "    udhr_stats_dict[l] = [n_words, n_unique, avg_word_len, n_sents, avg_sent_len]"
   ]
  },
  {
   "cell_type": "markdown",
   "metadata": {},
   "source": [
    "**Step 3:** Converting dictionary to data frame for better visual presentation."
   ]
  },
  {
   "cell_type": "code",
   "execution_count": 5,
   "metadata": {},
   "outputs": [
    {
     "data": {
      "text/html": [
       "<div>\n",
       "<style scoped>\n",
       "    .dataframe tbody tr th:only-of-type {\n",
       "        vertical-align: middle;\n",
       "    }\n",
       "\n",
       "    .dataframe tbody tr th {\n",
       "        vertical-align: top;\n",
       "    }\n",
       "\n",
       "    .dataframe thead th {\n",
       "        text-align: right;\n",
       "    }\n",
       "</style>\n",
       "<table border=\"1\" class=\"dataframe\">\n",
       "  <thead>\n",
       "    <tr style=\"text-align: right;\">\n",
       "      <th></th>\n",
       "      <th>English-Latin1</th>\n",
       "      <th>Hindi-UTF8</th>\n",
       "      <th>Kannada-UTF8</th>\n",
       "      <th>Hebrew_Ivrit-Hebrew</th>\n",
       "    </tr>\n",
       "  </thead>\n",
       "  <tbody>\n",
       "    <tr>\n",
       "      <th>Total Words</th>\n",
       "      <td>1781.00000</td>\n",
       "      <td>2524.000000</td>\n",
       "      <td>2529.000000</td>\n",
       "      <td>1530.000000</td>\n",
       "    </tr>\n",
       "    <tr>\n",
       "      <th># Unique Words</th>\n",
       "      <td>533.00000</td>\n",
       "      <td>224.000000</td>\n",
       "      <td>278.000000</td>\n",
       "      <td>782.000000</td>\n",
       "    </tr>\n",
       "    <tr>\n",
       "      <th>Avg. Word Length</th>\n",
       "      <td>4.64402</td>\n",
       "      <td>1.236529</td>\n",
       "      <td>1.271649</td>\n",
       "      <td>3.960784</td>\n",
       "    </tr>\n",
       "    <tr>\n",
       "      <th># Sentences</th>\n",
       "      <td>67.00000</td>\n",
       "      <td>8.000000</td>\n",
       "      <td>31.000000</td>\n",
       "      <td>71.000000</td>\n",
       "    </tr>\n",
       "    <tr>\n",
       "      <th>Avg. Sentence Length</th>\n",
       "      <td>26.58209</td>\n",
       "      <td>315.500000</td>\n",
       "      <td>81.580645</td>\n",
       "      <td>21.549296</td>\n",
       "    </tr>\n",
       "  </tbody>\n",
       "</table>\n",
       "</div>"
      ],
      "text/plain": [
       "                      English-Latin1   Hindi-UTF8  Kannada-UTF8  \\\n",
       "Total Words               1781.00000  2524.000000   2529.000000   \n",
       "# Unique Words             533.00000   224.000000    278.000000   \n",
       "Avg. Word Length             4.64402     1.236529      1.271649   \n",
       "# Sentences                 67.00000     8.000000     31.000000   \n",
       "Avg. Sentence Length        26.58209   315.500000     81.580645   \n",
       "\n",
       "                      Hebrew_Ivrit-Hebrew  \n",
       "Total Words                   1530.000000  \n",
       "# Unique Words                 782.000000  \n",
       "Avg. Word Length                 3.960784  \n",
       "# Sentences                     71.000000  \n",
       "Avg. Sentence Length            21.549296  "
      ]
     },
     "execution_count": 5,
     "metadata": {},
     "output_type": "execute_result"
    }
   ],
   "source": [
    "df_ind = ['Total Words', '# Unique Words', 'Avg. Word Length', '# Sentences', 'Avg. Sentence Length']\n",
    "udhr_stats_df = pd.DataFrame(udhr_stats_dict, index=df_ind)\n",
    "udhr_stats_df"
   ]
  },
  {
   "cell_type": "markdown",
   "metadata": {},
   "source": [
    "**Step 4:** Plotting the histograms of sentence lengths for each of the languages using the `sents_len_dict` that we created earlier and looping over all the four languages. We use the matplotlib function `hist()` to plot the histograms."
   ]
  },
  {
   "cell_type": "code",
   "execution_count": 6,
   "metadata": {},
   "outputs": [
    {
     "data": {
      "text/plain": [
       "<matplotlib.legend.Legend at 0x12805e80>"
      ]
     },
     "execution_count": 6,
     "metadata": {},
     "output_type": "execute_result"
    },
    {
     "data": {
      "image/png": "[encoded data removed]",
      "text/plain": [
       "<Figure size 720x504 with 1 Axes>"
      ]
     },
     "metadata": {
      "needs_background": "light"
     },
     "output_type": "display_data"
    }
   ],
   "source": [
    "fig, ax = plt.subplots(1, 1, figsize=(10,7))\n",
    "for l in lang:\n",
    "    ax.hist(sents_len_dict[l], label=l)\n",
    "ax.legend(loc='best')"
   ]
  },
  {
   "cell_type": "markdown",
   "metadata": {},
   "source": [
    "### Problem 2 (25%). \n",
    "Identify 10 most frequently used words longer than 7 characters in the entire corpus of Inaugural Addresses. Do not identify 10 words for every speech but rather 10 words for the entire corpus. Which among those words has the largest number of synonyms? List all synonyms for those 10 words. Which one of those 10 words has the largest number of hyponyms? List all hyponyms of those 10 most frequently used “long” words. The purpose of this problem is to familiarize you with WordNet and concepts of synonyms and hyponyms.\n"
   ]
  },
  {
   "cell_type": "markdown",
   "metadata": {},
   "source": [
    "### Solution 2:"
   ]
  },
  {
   "cell_type": "markdown",
   "metadata": {},
   "source": [
    "**Step 1:** Download the required nltk packages."
   ]
  },
  {
   "cell_type": "code",
   "execution_count": 7,
   "metadata": {},
   "outputs": [
    {
     "name": "stderr",
     "output_type": "stream",
     "text": [
      "[nltk_data] Downloading package inaugural to\n",
      "[nltk_data]     C:\\Users\\A0687514\\AppData\\Roaming\\nltk_data...\n",
      "[nltk_data]   Package inaugural is already up-to-date!\n",
      "[nltk_data] Downloading package wordnet to\n",
      "[nltk_data]     C:\\Users\\A0687514\\AppData\\Roaming\\nltk_data...\n",
      "[nltk_data]   Package wordnet is already up-to-date!\n"
     ]
    }
   ],
   "source": [
    "nltk.download('inaugural')\n",
    "nltk.download('wordnet')\n",
    "from nltk.corpus import inaugural"
   ]
  },
  {
   "cell_type": "markdown",
   "metadata": {},
   "source": [
    "**Step 2:** Here we loop over all the inaugural speeches file id's and store the words that are longer than 7 characters in a list called `words` using another for loop inside the first one. That way, we have a collection of all the \"long\" words from all the speeches. Next, we create a list of top 10 words using the function `Counter()` from `collections` library."
   ]
  },
  {
   "cell_type": "code",
   "execution_count": 8,
   "metadata": {},
   "outputs": [],
   "source": [
    "inaugural_fileids = inaugural.fileids()"
   ]
  },
  {
   "cell_type": "code",
   "execution_count": 9,
   "metadata": {},
   "outputs": [],
   "source": [
    "words = []\n",
    "for f in inaugural_fileids:\n",
    "    words_f = inaugural.words(f)\n",
    "    for w in words_f:\n",
    "        if len(w)>7:\n",
    "            words.append(w.lower())"
   ]
  },
  {
   "cell_type": "code",
   "execution_count": 10,
   "metadata": {},
   "outputs": [],
   "source": [
    "counter = collections.Counter(words)\n",
    "top10_tuples = counter.most_common(10)\n",
    "unzipped = zip(*top10_tuples)\n",
    "top10 = list(list(unzipped)[0])"
   ]
  },
  {
   "cell_type": "markdown",
   "metadata": {},
   "source": [
    "**Step 3:** \n",
    "Reference: https://www.nltk.org/book/ch02.html\n",
    "\n",
    "Using the `synsets()` function from WordNet dictionary from nltk, we get the set of synonyms which we store in the list called synonyms. Then we do a unique count on each of our 10 most common words."
   ]
  },
  {
   "cell_type": "code",
   "execution_count": 11,
   "metadata": {},
   "outputs": [
    {
     "name": "stdout",
     "output_type": "stream",
     "text": [
      "Word: government:\n",
      "['administration' 'authorities' 'governance' 'governing' 'government'\n",
      " 'government_activity' 'political_science' 'politics' 'regime']\n",
      "Number of synonyms: 9\n",
      "\n",
      "Word: citizens:\n",
      "['citizen']\n",
      "Number of synonyms: 1\n",
      "\n",
      "Word: constitution:\n",
      "['Constitution' 'Constitution_of_the_United_States' 'Old_Ironsides'\n",
      " 'U.S._Constitution' 'US_Constitution' 'United_States_Constitution'\n",
      " 'composition' 'constitution' 'establishment' 'formation'\n",
      " 'fundamental_law' 'make-up' 'makeup' 'organic_law' 'organisation'\n",
      " 'organization' 'physical_composition']\n",
      "Number of synonyms: 17\n",
      "\n",
      "Word: american:\n",
      "['American' 'American_English' 'American_language']\n",
      "Number of synonyms: 3\n",
      "\n",
      "Word: national:\n",
      "['home' 'interior' 'internal' 'national' 'subject']\n",
      "Number of synonyms: 5\n",
      "\n",
      "Word: congress:\n",
      "['Congress' 'U.S._Congress' 'US_Congress' 'United_States_Congress'\n",
      " 'carnal_knowledge' 'coition' 'coitus' 'congress' 'copulation'\n",
      " 'intercourse' 'relation' 'sex_act' 'sexual_congress' 'sexual_intercourse'\n",
      " 'sexual_relation']\n",
      "Number of synonyms: 15\n",
      "\n",
      "Word: interests:\n",
      "['concern' 'interest' 'interest_group' 'interestingness' 'involvement'\n",
      " 'matter_to' 'occupy' 'pastime' 'pursuit' 'sake' 'stake' 'worry']\n",
      "Number of synonyms: 12\n",
      "\n",
      "Word: political:\n",
      "['political']\n",
      "Number of synonyms: 1\n",
      "\n",
      "Word: executive:\n",
      "['administrator' 'executive' 'executive_director']\n",
      "Number of synonyms: 3\n",
      "\n",
      "Word: principles:\n",
      "['precept' 'principle' 'rationale' 'rule']\n",
      "Number of synonyms: 4\n",
      "\n"
     ]
    }
   ],
   "source": [
    "for w in top10:\n",
    "    synonyms = []\n",
    "    for synset in wn.synsets(w):\n",
    "        synonyms = synonyms+synset.lemma_names()\n",
    "    print('Word: %s:'%w) \n",
    "    print(np.unique(synonyms))\n",
    "    syn_count = len(np.unique(synonyms))\n",
    "    print('Number of synonyms: %s\\n'%syn_count)"
   ]
  },
  {
   "cell_type": "markdown",
   "metadata": {},
   "source": [
    "**Answer:** We can see that the word 'constitution' has maximum number of synonyms with the count being 17."
   ]
  },
  {
   "cell_type": "markdown",
   "metadata": {},
   "source": [
    "**Step 4:** We follow similar looping structure as we did in step 3 here, except that instead of getting the `lemma_names` from `synsets`, we get the `hyponyms()`."
   ]
  },
  {
   "cell_type": "code",
   "execution_count": 12,
   "metadata": {},
   "outputs": [
    {
     "name": "stdout",
     "output_type": "stream",
     "text": [
      "Word: government:\n",
      "['Downing_Street' 'ancien_regime' 'authoritarian_regime'\n",
      " 'authoritarian_state' 'bureaucracy' 'court' 'empire' 'federal_government'\n",
      " 'geopolitics' 'government-in-exile' 'lawmaking' 'legislating'\n",
      " 'legislation' 'local_government' 'military_government' 'misgovernment'\n",
      " 'misrule' 'palace' 'papacy' 'pontificate' 'practical_politics'\n",
      " 'pupet_regime' 'puppet_government' 'puppet_state' 'realpolitik'\n",
      " 'royal_court' 'state' 'state_government' 'stratocracy'\n",
      " 'totalitarian_state' 'totalitation_regime' 'trust_busting']\n",
      "Number of hyponyms: 32\n",
      "\n",
      "Word: citizens:\n",
      "['active_citizen' 'civilian' 'elector' 'freeman' 'freewoman'\n",
      " 'private_citizen' 'repatriate' 'thane' 'voter']\n",
      "Number of hyponyms: 9\n",
      "\n",
      "Word: constitution:\n",
      "['collectivisation' 'collectivization' 'colonisation' 'colonization'\n",
      " 'communisation' 'communization' 'federation' 'genetic_constitution'\n",
      " 'genotype' 'grain' 'karyotype' 'phenotype' 'settlement' 'structure'\n",
      " 'texture' 'unionisation' 'unionization']\n",
      "Number of hyponyms: 17\n",
      "\n",
      "Word: american:\n",
      "['AAVE' 'African-American' 'African_American' 'African_American_English'\n",
      " 'African_American_Vernacular_English' 'Afro-American' 'Alabaman'\n",
      " 'Alabamian' 'Alaskan' 'Anglo-American' 'Appalachian' 'Arizonan'\n",
      " 'Arizonian' 'Arkansan' 'Arkansawyer' 'Asian_American' 'Badger'\n",
      " 'Bay_Stater' 'Beaver' 'Black_American' 'Black_English'\n",
      " 'Black_English_Vernacular' 'Black_Vernacular' 'Black_Vernacular_English'\n",
      " 'Bluegrass_Stater' 'Bostonian' 'Buckeye' 'Californian' 'Carolinian'\n",
      " 'Coloradan' 'Connecticuter' 'Cornhusker' 'Creole' 'Delawarean'\n",
      " 'Delawarian' 'Down_Easter' 'Ebonics' 'Floridian' 'Franco-American'\n",
      " 'Garden_Stater' 'Georgian' 'German_American' 'Gopher' 'Granite_Stater'\n",
      " 'Hawaiian' 'Hispanic' 'Hispanic_American' 'Hoosier' 'Idahoan'\n",
      " 'Illinoisan' 'Indianan' 'Iowan' 'Kansan' 'Kentuckian' 'Keystone_Stater'\n",
      " 'Latin_American' 'Latino' 'Louisianan' 'Louisianian' 'Mainer'\n",
      " 'Marylander' 'Mesoamerican' 'Michigander' 'Minnesotan' 'Mississippian'\n",
      " 'Missourian' 'Montanan' 'Nebraskan' 'Nevadan' 'New_Englander'\n",
      " 'New_Hampshirite' 'New_Jerseyan' 'New_Jerseyite' 'New_Mexican'\n",
      " 'New_Yorker' 'Nisei' 'North_American' 'North_Carolinian' 'North_Dakotan'\n",
      " 'Northerner' 'Ohioan' 'Oklahoman' 'Oregonian' 'Pennsylvanian'\n",
      " 'Puerto_Rican' 'Rhode_Islander' 'Sooner' 'South_American'\n",
      " 'South_Carolinian' 'South_Dakotan' 'Southerner' 'Spanish_American'\n",
      " 'Tarheel' 'Tennessean' 'Texan' 'Tory' 'Utahan' 'Vermonter' 'Virginian'\n",
      " 'Volunteer' 'Washingtonian' 'West_Indian' 'West_Virginian' 'Wisconsinite'\n",
      " 'Wolverine' 'Wyomingite' 'Yank' 'Yankee' 'Yankee-Doodle']\n",
      "Number of hyponyms: 109\n",
      "\n",
      "Word: national:\n",
      "['citizen' 'compatriot' 'nationalist' 'patriot']\n",
      "Number of hyponyms: 4\n",
      "\n",
      "Word: congress:\n",
      "['Continental_Congress' 'ass' 'criminal_congress' 'defloration' 'fuck'\n",
      " 'fucking' 'hank_panky' 'nookie' 'nooky' 'penetration' 'piece_of_ass'\n",
      " 'piece_of_tail' 'roll_in_the_hay' 'screw' 'screwing' 'shag' 'shtup'\n",
      " 'unlawful_carnal_knowledge']\n",
      "Number of hyponyms: 18\n",
      "\n",
      "Word: interests:\n",
      "['absorb' 'avocation' 'behalf' 'by-line' 'charisma' 'color' 'colour'\n",
      " 'compound_interest' 'concern' 'controlling_interest' 'engage' 'engross'\n",
      " 'enthusiasm' 'equity' 'fascinate' 'fee' 'grip' 'grubstake' 'hobby'\n",
      " 'insurable_interest' 'intrigue' 'news' 'newsworthiness' 'occupy'\n",
      " 'personal_appeal' 'personal_magnetism' 'pursuit' 'reversion' 'right'\n",
      " 'security_interest' 'shrillness' 'sideline' 'simple_interest'\n",
      " 'spare-time_activity' 'special_interest' 'spellbind'\n",
      " 'terminable_interest' 'topicality' 'transfix' 'undivided_interest'\n",
      " 'undivided_right' 'vested_interest' 'vividness']\n",
      "Number of hyponyms: 43\n",
      "\n",
      "Word: political:\n",
      "[]\n",
      "Number of hyponyms: 0\n",
      "\n",
      "Word: executive:\n",
      "['Bush_administration' 'Carter_administration' 'Clinton_administration'\n",
      " 'DCI' 'Director_of_Central_Intelligence' 'Reagan_administration'\n",
      " 'Secretary_General' 'Surgeon_General' 'V.P.' 'business_executive'\n",
      " 'commissioner' 'corporate_executive' 'government_minister' 'minister'\n",
      " 'prefect' 'rainmaker' 'triumvir' 'vice_president']\n",
      "Number of hyponyms: 18\n",
      "\n",
      "Word: principles:\n",
      "['Gestalt_law_of_organization' 'Gestalt_principle_of_organization'\n",
      " \"Gresham's_Law\" 'Hellenism' \"Huygens'_principle_of_superposition\"\n",
      " \"Le_Chatelier's_law\" \"Le_Chatelier's_principle\"\n",
      " 'Le_Chatelier-Braun_principle' 'Le_Chatelier_principle' \"Naegele's_rule\"\n",
      " \"Occam's_Razor\" \"Ockham's_Razor\" 'Tao' 'accounting_principle'\n",
      " 'accounting_standard' 'basic_principle' 'basics' 'bedrock'\n",
      " 'caveat_emptor' 'chivalry' 'conservation' 'dialectics' 'dictate' 'ethic'\n",
      " 'feng_shui' 'fundamental_principle' 'fundamentals' 'higher_law'\n",
      " 'hypothetical_imperative' 'insurrectionism' 'judicial_doctrine'\n",
      " 'judicial_principle' 'knightliness' 'law_of_parsimony' 'legal_principle'\n",
      " 'localisation' 'localisation_of_function' 'localisation_principle'\n",
      " 'localization' 'localization_of_function' 'localization_principle'\n",
      " 'logic' 'mass-action_principle' 'mass-energy_equivalence' 'mass_action'\n",
      " 'moral_principle' 'pillar' 'pleasure-pain_principle'\n",
      " 'pleasure-unpleasure_principle' 'pleasure_principle'\n",
      " 'principle_of_equivalence' 'principle_of_liquid_displacement'\n",
      " 'principle_of_parsimony' 'principle_of_superposition' 'reality_principle'\n",
      " 'scruple' 'superposition' 'superposition_principle' 'value-system'\n",
      " 'value_orientation' 'yang' 'yin']\n",
      "Number of hyponyms: 62\n",
      "\n"
     ]
    }
   ],
   "source": [
    "for w in top10:\n",
    "    hyponyms = []\n",
    "    for synset in wn.synsets(w):\n",
    "        for hypo in synset.hyponyms():\n",
    "            for lemma in hypo.lemmas():\n",
    "                hyponyms.append(lemma.name())\n",
    "    print('Word: %s:'%w) \n",
    "    print(np.unique(hyponyms))\n",
    "    hyp_count = len(np.unique(hyponyms))\n",
    "    print('Number of hyponyms: %s\\n'%hyp_count)"
   ]
  },
  {
   "cell_type": "markdown",
   "metadata": {},
   "source": [
    "**Answer:** We can see that the word 'american' has maximum number of synonyms with the count being 109."
   ]
  },
  {
   "cell_type": "markdown",
   "metadata": {},
   "source": [
    "### Problem 3. \n",
    "Consider 100 points along the straight line in $(x,y)$ plane represented by the linear equation $y=0.3x+0.2$. Distribute those points along the line uniformly in the interval between -2.0 and 3.0. To the y coordinate of each point add a random normally distributed value with standard deviation of 1 and mean 0. You have created and artificial set of random measurements. Create a shallow neural network with one layer which will be able to predict y value corresponding to any x value in the above interval. Implement and train the network using Keras API. Report on the accuracy of your model. This is a rather trivial problem and you do not need neural networks to solve it. We are practicing Keras API.\n"
   ]
  },
  {
   "cell_type": "markdown",
   "metadata": {},
   "source": [
    "### Solution 3:"
   ]
  },
  {
   "cell_type": "markdown",
   "metadata": {},
   "source": [
    "**Step 1:** Create datasets. We create X using uniform random number generator from numpy library. Then we add the noise to the line $y = 0.3*x + 0.2$ with mean at 0 and standard deviation of 0.1 and call that our y."
   ]
  },
  {
   "cell_type": "code",
   "execution_count": 13,
   "metadata": {},
   "outputs": [],
   "source": [
    "x = np.random.uniform(low=-2.0, high=3.0, size=100)"
   ]
  },
  {
   "cell_type": "code",
   "execution_count": 14,
   "metadata": {},
   "outputs": [
    {
     "data": {
      "text/plain": [
       "(100,)"
      ]
     },
     "execution_count": 14,
     "metadata": {},
     "output_type": "execute_result"
    }
   ],
   "source": [
    "line = 0.3*x + 0.2 \n",
    "noise = np.random.normal(loc=0, scale=0.1, size=100)\n",
    "y = line+noise\n",
    "y.shape"
   ]
  },
  {
   "cell_type": "markdown",
   "metadata": {},
   "source": [
    "**Step 2:** Create train and test data sets using random number generator from numpy library again. 0.7 is the probability, so we basically get a condition which checks if the value is < 0.7 which we store as `mask`."
   ]
  },
  {
   "cell_type": "code",
   "execution_count": 15,
   "metadata": {},
   "outputs": [],
   "source": [
    "np.random.seed(9001)\n",
    "mask = np.random.rand(100) < 0.7 \n",
    "x_train = x[mask]\n",
    "x_test = x[~mask]\n",
    "y_train = y[mask]\n",
    "y_test = y[~mask]"
   ]
  },
  {
   "cell_type": "markdown",
   "metadata": {},
   "source": [
    "**Step 3:** Build the sequential network using `Sequential()` from the `keras` library. Then we add the first dense layer with one node since our y is quantitative. So we only want one output to come out of the network."
   ]
  },
  {
   "cell_type": "code",
   "execution_count": 16,
   "metadata": {},
   "outputs": [
    {
     "name": "stderr",
     "output_type": "stream",
     "text": [
      "WARNING: Logging before flag parsing goes to stderr.\n",
      "W0702 20:52:17.786554  8784 deprecation_wrapper.py:119] From C:\\Users\\A0687514\\AppData\\Local\\Continuum\\anaconda3\\lib\\site-packages\\keras\\backend\\tensorflow_backend.py:74: The name tf.get_default_graph is deprecated. Please use tf.compat.v1.get_default_graph instead.\n",
      "\n",
      "W0702 20:52:17.803554  8784 deprecation_wrapper.py:119] From C:\\Users\\A0687514\\AppData\\Local\\Continuum\\anaconda3\\lib\\site-packages\\keras\\backend\\tensorflow_backend.py:517: The name tf.placeholder is deprecated. Please use tf.compat.v1.placeholder instead.\n",
      "\n",
      "W0702 20:52:17.807554  8784 deprecation_wrapper.py:119] From C:\\Users\\A0687514\\AppData\\Local\\Continuum\\anaconda3\\lib\\site-packages\\keras\\backend\\tensorflow_backend.py:4138: The name tf.random_uniform is deprecated. Please use tf.random.uniform instead.\n",
      "\n"
     ]
    },
    {
     "name": "stdout",
     "output_type": "stream",
     "text": [
      "_________________________________________________________________\n",
      "Layer (type)                 Output Shape              Param #   \n",
      "=================================================================\n",
      "dense_1 (Dense)              (None, 1)                 2         \n",
      "=================================================================\n",
      "Total params: 2\n",
      "Trainable params: 2\n",
      "Non-trainable params: 0\n",
      "_________________________________________________________________\n"
     ]
    }
   ],
   "source": [
    "model = Sequential()\n",
    "# model.add(Dense(2, input_shape=(1,)))\n",
    "model.add(Dense(1, input_shape=(1,)))\n",
    "model.summary()"
   ]
  },
  {
   "cell_type": "markdown",
   "metadata": {},
   "source": [
    "**Step 4:** Compile and train the model on our data set. We use `SGD` optimizer and `MSE` loss and run it for 50 epochs."
   ]
  },
  {
   "cell_type": "code",
   "execution_count": 17,
   "metadata": {},
   "outputs": [
    {
     "name": "stderr",
     "output_type": "stream",
     "text": [
      "W0702 20:52:19.261554  8784 deprecation_wrapper.py:119] From C:\\Users\\A0687514\\AppData\\Local\\Continuum\\anaconda3\\lib\\site-packages\\keras\\optimizers.py:790: The name tf.train.Optimizer is deprecated. Please use tf.compat.v1.train.Optimizer instead.\n",
      "\n"
     ]
    }
   ],
   "source": [
    "model.compile(optimizer='sgd', loss='mse')"
   ]
  },
  {
   "cell_type": "code",
   "execution_count": 18,
   "metadata": {},
   "outputs": [
    {
     "name": "stderr",
     "output_type": "stream",
     "text": [
      "W0702 20:52:19.780554  8784 deprecation_wrapper.py:119] From C:\\Users\\A0687514\\AppData\\Local\\Continuum\\anaconda3\\lib\\site-packages\\keras\\backend\\tensorflow_backend.py:986: The name tf.assign_add is deprecated. Please use tf.compat.v1.assign_add instead.\n",
      "\n",
      "W0702 20:52:19.781554  8784 deprecation_wrapper.py:119] From C:\\Users\\A0687514\\AppData\\Local\\Continuum\\anaconda3\\lib\\site-packages\\keras\\backend\\tensorflow_backend.py:973: The name tf.assign is deprecated. Please use tf.compat.v1.assign instead.\n",
      "\n"
     ]
    },
    {
     "name": "stdout",
     "output_type": "stream",
     "text": [
      "Train on 64 samples, validate on 36 samples\n",
      "Epoch 1/50\n",
      "64/64 [==============================] - 0s 3ms/step - loss: 4.4843 - val_loss: 1.6950\n",
      "Epoch 2/50\n",
      "64/64 [==============================] - 0s 203us/step - loss: 2.7725 - val_loss: 1.0524\n",
      "Epoch 3/50\n",
      "64/64 [==============================] - 0s 125us/step - loss: 1.7212 - val_loss: 0.6605\n",
      "Epoch 4/50\n",
      "64/64 [==============================] - 0s 203us/step - loss: 1.0733 - val_loss: 0.4212\n",
      "Epoch 5/50\n",
      "64/64 [==============================] - 0s 141us/step - loss: 0.6774 - val_loss: 0.2754\n",
      "Epoch 6/50\n",
      "64/64 [==============================] - 0s 109us/step - loss: 0.4324 - val_loss: 0.1861\n",
      "Epoch 7/50\n",
      "64/64 [==============================] - 0s 141us/step - loss: 0.2818 - val_loss: 0.1312\n",
      "Epoch 8/50\n",
      "64/64 [==============================] - 0s 141us/step - loss: 0.1898 - val_loss: 0.0971\n",
      "Epoch 9/50\n",
      "64/64 [==============================] - 0s 141us/step - loss: 0.1304 - val_loss: 0.0757\n",
      "Epoch 10/50\n",
      "64/64 [==============================] - 0s 391us/step - loss: 0.0937 - val_loss: 0.0619\n",
      "Epoch 11/50\n",
      "64/64 [==============================] - 0s 219us/step - loss: 0.0704 - val_loss: 0.0528\n",
      "Epoch 12/50\n",
      "64/64 [==============================] - 0s 203us/step - loss: 0.0554 - val_loss: 0.0466\n",
      "Epoch 13/50\n",
      "64/64 [==============================] - 0s 250us/step - loss: 0.0455 - val_loss: 0.0421\n",
      "Epoch 14/50\n",
      "64/64 [==============================] - 0s 156us/step - loss: 0.0388 - val_loss: 0.0387\n",
      "Epoch 15/50\n",
      "64/64 [==============================] - 0s 250us/step - loss: 0.0344 - val_loss: 0.0361\n",
      "Epoch 16/50\n",
      "64/64 [==============================] - 0s 687us/step - loss: 0.0307 - val_loss: 0.0339\n",
      "Epoch 17/50\n",
      "64/64 [==============================] - 0s 156us/step - loss: 0.0281 - val_loss: 0.0320\n",
      "Epoch 18/50\n",
      "64/64 [==============================] - 0s 156us/step - loss: 0.0261 - val_loss: 0.0303\n",
      "Epoch 19/50\n",
      "64/64 [==============================] - 0s 141us/step - loss: 0.0247 - val_loss: 0.0289\n",
      "Epoch 20/50\n",
      "64/64 [==============================] - 0s 172us/step - loss: 0.0233 - val_loss: 0.0276\n",
      "Epoch 21/50\n",
      "64/64 [==============================] - 0s 250us/step - loss: 0.0221 - val_loss: 0.0264\n",
      "Epoch 22/50\n",
      "64/64 [==============================] - 0s 219us/step - loss: 0.0211 - val_loss: 0.0253\n",
      "Epoch 23/50\n",
      "64/64 [==============================] - 0s 172us/step - loss: 0.0203 - val_loss: 0.0243\n",
      "Epoch 24/50\n",
      "64/64 [==============================] - 0s 172us/step - loss: 0.0195 - val_loss: 0.0234\n",
      "Epoch 25/50\n",
      "64/64 [==============================] - 0s 172us/step - loss: 0.0189 - val_loss: 0.0225\n",
      "Epoch 26/50\n",
      "64/64 [==============================] - 0s 234us/step - loss: 0.0184 - val_loss: 0.0217\n",
      "Epoch 27/50\n",
      "64/64 [==============================] - 0s 141us/step - loss: 0.0177 - val_loss: 0.0210\n",
      "Epoch 28/50\n",
      "64/64 [==============================] - 0s 141us/step - loss: 0.0173 - val_loss: 0.0204\n",
      "Epoch 29/50\n",
      "64/64 [==============================] - 0s 141us/step - loss: 0.0169 - val_loss: 0.0198\n",
      "Epoch 30/50\n",
      "64/64 [==============================] - 0s 141us/step - loss: 0.0165 - val_loss: 0.0193\n",
      "Epoch 31/50\n",
      "64/64 [==============================] - 0s 234us/step - loss: 0.0161 - val_loss: 0.0188\n",
      "Epoch 32/50\n",
      "64/64 [==============================] - 0s 172us/step - loss: 0.0158 - val_loss: 0.0183\n",
      "Epoch 33/50\n",
      "64/64 [==============================] - 0s 156us/step - loss: 0.0155 - val_loss: 0.0179\n",
      "Epoch 34/50\n",
      "64/64 [==============================] - 0s 281us/step - loss: 0.0153 - val_loss: 0.0176\n",
      "Epoch 35/50\n",
      "64/64 [==============================] - 0s 172us/step - loss: 0.0151 - val_loss: 0.0172\n",
      "Epoch 36/50\n",
      "64/64 [==============================] - 0s 141us/step - loss: 0.0148 - val_loss: 0.0169\n",
      "Epoch 37/50\n",
      "64/64 [==============================] - 0s 188us/step - loss: 0.0147 - val_loss: 0.0166\n",
      "Epoch 38/50\n",
      "64/64 [==============================] - 0s 266us/step - loss: 0.0145 - val_loss: 0.0163\n",
      "Epoch 39/50\n",
      "64/64 [==============================] - 0s 156us/step - loss: 0.0144 - val_loss: 0.0161\n",
      "Epoch 40/50\n",
      "64/64 [==============================] - 0s 156us/step - loss: 0.0142 - val_loss: 0.0159\n",
      "Epoch 41/50\n",
      "64/64 [==============================] - 0s 203us/step - loss: 0.0141 - val_loss: 0.0157\n",
      "Epoch 42/50\n",
      "64/64 [==============================] - 0s 141us/step - loss: 0.0140 - val_loss: 0.0155\n",
      "Epoch 43/50\n",
      "64/64 [==============================] - 0s 156us/step - loss: 0.0139 - val_loss: 0.0153\n",
      "Epoch 44/50\n",
      "64/64 [==============================] - 0s 172us/step - loss: 0.0138 - val_loss: 0.0152\n",
      "Epoch 45/50\n",
      "64/64 [==============================] - 0s 188us/step - loss: 0.0137 - val_loss: 0.0150\n",
      "Epoch 46/50\n",
      "64/64 [==============================] - 0s 203us/step - loss: 0.0136 - val_loss: 0.0149\n",
      "Epoch 47/50\n",
      "64/64 [==============================] - 0s 141us/step - loss: 0.0136 - val_loss: 0.0148\n",
      "Epoch 48/50\n",
      "64/64 [==============================] - 0s 156us/step - loss: 0.0135 - val_loss: 0.0146\n",
      "Epoch 49/50\n",
      "64/64 [==============================] - 0s 156us/step - loss: 0.0134 - val_loss: 0.0145\n",
      "Epoch 50/50\n",
      "64/64 [==============================] - 0s 187us/step - loss: 0.0134 - val_loss: 0.0144\n"
     ]
    }
   ],
   "source": [
    "history = model.fit(x_train, y_train,\n",
    "                    batch_size=16,\n",
    "                    epochs=50,\n",
    "                    verbose=1,\n",
    "                    validation_data=[x_test, y_test]\n",
    "                   )"
   ]
  },
  {
   "cell_type": "markdown",
   "metadata": {},
   "source": [
    "**Step 5:** We use `r2_score()` function from `sklearn` library to get the R-squared for the predicted and the true y_test, which we get as ~0.88. That is good, it means we can explain 88% of the variation in our test set using our trained model."
   ]
  },
  {
   "cell_type": "code",
   "execution_count": 19,
   "metadata": {},
   "outputs": [],
   "source": [
    "y_pred = model.predict(x_test)"
   ]
  },
  {
   "cell_type": "code",
   "execution_count": 20,
   "metadata": {},
   "outputs": [
    {
     "data": {
      "text/plain": [
       "0.8805575353055156"
      ]
     },
     "execution_count": 20,
     "metadata": {},
     "output_type": "execute_result"
    }
   ],
   "source": [
    "r2_score(y_test, y_pred)"
   ]
  },
  {
   "cell_type": "markdown",
   "metadata": {},
   "source": [
    "**Step 6:** Here we just plot the true and the predicted y that we get using the trained model."
   ]
  },
  {
   "cell_type": "code",
   "execution_count": 21,
   "metadata": {},
   "outputs": [
    {
     "data": {
      "text/plain": [
       "<matplotlib.legend.Legend at 0x177e4b70>"
      ]
     },
     "execution_count": 21,
     "metadata": {},
     "output_type": "execute_result"
    },
    {
     "data": {
      "image/png": "[encoded data removed]",
      "text/plain": [
       "<Figure size 432x288 with 1 Axes>"
      ]
     },
     "metadata": {
      "needs_background": "light"
     },
     "output_type": "display_data"
    }
   ],
   "source": [
    "plt.scatter(x_test, y_test, label='y_true')\n",
    "plt.plot(x_test, y_pred, c='red', label='y_pred')\n",
    "plt.legend(loc='best')"
   ]
  },
  {
   "cell_type": "markdown",
   "metadata": {},
   "source": [
    "### Problem 4.  \n",
    "Consider three points in (x,y) plane with coordinates (-2,0), (0,1.7) and (2.1,0). Around each of those three centers create a cloud of 100 randomly generated points. For the radial distance of any one of those points from its center use a random normal distribution.  For the angular coordinate of any one of “cloud” points use the uniform distribution. Once you have generated all three sets of cloud points plot them in the same diagram using three different colors. There should exist some overlap between the clouds. Create a two-layer neural network. Use Keras API. Fit a model that could predict whether a randomly generated point in the plane belongs to cloud 1, centered around (-2,0), cloud 2, centered around (0,1.7) or cloud 3, centered around (2.1,0). You can make that prediction in a much simpler way, however, we are practicing Keras API."
   ]
  },
  {
   "cell_type": "markdown",
   "metadata": {},
   "source": [
    "### Solution 4:"
   ]
  },
  {
   "cell_type": "markdown",
   "metadata": {},
   "source": [
    "**Step 1:** Here we generate our three clouds of data points and the respective labels for it. We use the means for these clouds as given in the question and the covariances were adjusted arbitrarily by trial and error to make sure there is some overlap between the clouds as stated in the question."
   ]
  },
  {
   "cell_type": "code",
   "execution_count": 22,
   "metadata": {},
   "outputs": [
    {
     "name": "stderr",
     "output_type": "stream",
     "text": [
      "C:\\Users\\A0687514\\AppData\\Local\\Continuum\\anaconda3\\lib\\site-packages\\ipykernel_launcher.py:11: RuntimeWarning: covariance is not symmetric positive-semidefinite.\n",
      "  # This is added back by InteractiveShellApp.init_path()\n",
      "C:\\Users\\A0687514\\AppData\\Local\\Continuum\\anaconda3\\lib\\site-packages\\ipykernel_launcher.py:13: RuntimeWarning: covariance is not symmetric positive-semidefinite.\n",
      "  del sys.path[0]\n",
      "C:\\Users\\A0687514\\AppData\\Local\\Continuum\\anaconda3\\lib\\site-packages\\ipykernel_launcher.py:15: RuntimeWarning: covariance is not symmetric positive-semidefinite.\n",
      "  from ipykernel import kernelapp as app\n"
     ]
    }
   ],
   "source": [
    "num_points=100\n",
    "\n",
    "# means and covariances\n",
    "mean1 = [-2, 0]\n",
    "mean2 = [0, 1.7]\n",
    "mean3 = [2.1, 0]\n",
    "\n",
    "cov = [[0.7, 0], [0.7, 1]]\n",
    "\n",
    "# cloud 1 samples\n",
    "X1=np.random.multivariate_normal(mean1, cov, num_points)\n",
    "# cloud 2 samples\n",
    "X2=np.random.multivariate_normal(mean2, cov, num_points)\n",
    "# cloud 3 samples\n",
    "X3=np.random.multivariate_normal(mean3, cov, num_points)\n",
    "\n",
    "\n",
    "#cloud 1 labels\n",
    "Y1=0*np.ones(num_points)\n",
    "#cloud 2 labels\n",
    "Y2=1*np.ones(num_points)\n",
    "#cloud 3  labels\n",
    "Y3=2*np.ones(num_points)"
   ]
  },
  {
   "cell_type": "markdown",
   "metadata": {},
   "source": [
    "**Step 2:** Plot of the three clouds."
   ]
  },
  {
   "cell_type": "code",
   "execution_count": 23,
   "metadata": {},
   "outputs": [
    {
     "data": {
      "image/png": "[encoded data removed]",
      "text/plain": [
       "<Figure size 432x288 with 1 Axes>"
      ]
     },
     "metadata": {
      "needs_background": "light"
     },
     "output_type": "display_data"
    }
   ],
   "source": [
    "#cloud 1 \n",
    "plt.scatter(X1[:,0],X1[:,1])\n",
    "#cloud 2 \n",
    "plt.scatter(X2[:,0],X2[:,1])\n",
    "#cloud 3 \n",
    "plt.scatter(X3[:,0],X3[:,1])\n",
    "\n",
    "plt.show()"
   ]
  },
  {
   "cell_type": "markdown",
   "metadata": {},
   "source": [
    "**Step 3:** Concatenate our data points and the respective labels in the same order to make sure we map the points and th labels accurately to create one dataset of 300 X's and 300 class labels."
   ]
  },
  {
   "cell_type": "code",
   "execution_count": 24,
   "metadata": {},
   "outputs": [],
   "source": [
    "X=np.concatenate([X1,X2,X3],axis=0)\n",
    "Y=np.concatenate([Y1,Y2,Y3],axis=0)\n",
    "\n",
    "Y=to_categorical(Y)\n",
    "\n",
    "x_train, x_test, y_train, y_test = train_test_split( X,Y, test_size=0.2, random_state=42,shuffle=True)"
   ]
  },
  {
   "cell_type": "code",
   "execution_count": 25,
   "metadata": {},
   "outputs": [
    {
     "data": {
      "text/plain": [
       "(300, 3)"
      ]
     },
     "execution_count": 25,
     "metadata": {},
     "output_type": "execute_result"
    }
   ],
   "source": [
    "Y.shape"
   ]
  },
  {
   "cell_type": "markdown",
   "metadata": {},
   "source": [
    "**Step 4:** Build our network using `Sequential()` again and add two layers each with 3 nodes in the output layer repesenting the three class labels."
   ]
  },
  {
   "cell_type": "code",
   "execution_count": 26,
   "metadata": {},
   "outputs": [
    {
     "name": "stdout",
     "output_type": "stream",
     "text": [
      "_________________________________________________________________\n",
      "Layer (type)                 Output Shape              Param #   \n",
      "=================================================================\n",
      "dense_2 (Dense)              (None, 50)                150       \n",
      "_________________________________________________________________\n",
      "dense_3 (Dense)              (None, 3)                 153       \n",
      "=================================================================\n",
      "Total params: 303\n",
      "Trainable params: 303\n",
      "Non-trainable params: 0\n",
      "_________________________________________________________________\n"
     ]
    }
   ],
   "source": [
    "model = Sequential()\n",
    "model.add(Dense(50, input_shape=(2,)))\n",
    "model.add(Dense(3, activation='relu'))\n",
    "model.summary()"
   ]
  },
  {
   "cell_type": "markdown",
   "metadata": {},
   "source": [
    "**Step 5:** Compile and run the model with `Adam()` optimizer, `binary_crossentropy` loss and 20 epochs."
   ]
  },
  {
   "cell_type": "code",
   "execution_count": 27,
   "metadata": {},
   "outputs": [
    {
     "name": "stderr",
     "output_type": "stream",
     "text": [
      "W0702 20:52:28.338570  8784 deprecation.py:323] From C:\\Users\\A0687514\\AppData\\Local\\Continuum\\anaconda3\\lib\\site-packages\\tensorflow\\python\\ops\\nn_impl.py:180: add_dispatch_support.<locals>.wrapper (from tensorflow.python.ops.array_ops) is deprecated and will be removed in a future version.\n",
      "Instructions for updating:\n",
      "Use tf.where in 2.0, which has the same broadcast rule as np.where\n"
     ]
    }
   ],
   "source": [
    "model.compile(optimizer='adam', loss='binary_crossentropy', metrics=['accuracy'])"
   ]
  },
  {
   "cell_type": "code",
   "execution_count": 28,
   "metadata": {},
   "outputs": [
    {
     "name": "stdout",
     "output_type": "stream",
     "text": [
      "Train on 240 samples, validate on 60 samples\n",
      "Epoch 1/20\n",
      "240/240 [==============================] - 0s 1ms/step - loss: 2.2843 - acc: 0.7778 - val_loss: 2.1682 - val_acc: 0.7944\n",
      "Epoch 2/20\n",
      "240/240 [==============================] - 0s 129us/step - loss: 2.0021 - acc: 0.8056 - val_loss: 1.8850 - val_acc: 0.8167\n",
      "Epoch 3/20\n",
      "240/240 [==============================] - 0s 121us/step - loss: 1.6504 - acc: 0.7972 - val_loss: 1.1688 - val_acc: 0.8222\n",
      "Epoch 4/20\n",
      "240/240 [==============================] - 0s 125us/step - loss: 0.5677 - acc: 0.7944 - val_loss: 0.5191 - val_acc: 0.8333\n",
      "Epoch 5/20\n",
      "240/240 [==============================] - 0s 129us/step - loss: 0.2826 - acc: 0.8611 - val_loss: 0.4508 - val_acc: 0.8444\n",
      "Epoch 6/20\n",
      "240/240 [==============================] - 0s 121us/step - loss: 0.2861 - acc: 0.8667 - val_loss: 0.4373 - val_acc: 0.8500\n",
      "Epoch 7/20\n",
      "240/240 [==============================] - 0s 163us/step - loss: 0.2603 - acc: 0.8556 - val_loss: 0.3572 - val_acc: 0.8500\n",
      "Epoch 8/20\n",
      "240/240 [==============================] - 0s 121us/step - loss: 0.2854 - acc: 0.8139 - val_loss: 0.3583 - val_acc: 0.8444\n",
      "Epoch 9/20\n",
      "240/240 [==============================] - 0s 129us/step - loss: 0.2839 - acc: 0.8167 - val_loss: 0.3542 - val_acc: 0.8500\n",
      "Epoch 10/20\n",
      "240/240 [==============================] - 0s 142us/step - loss: 0.2656 - acc: 0.8250 - val_loss: 0.3474 - val_acc: 0.8500\n",
      "Epoch 11/20\n",
      "240/240 [==============================] - 0s 113us/step - loss: 0.2540 - acc: 0.8361 - val_loss: 0.3416 - val_acc: 0.8444\n",
      "Epoch 12/20\n",
      "240/240 [==============================] - 0s 133us/step - loss: 0.2453 - acc: 0.8458 - val_loss: 0.3393 - val_acc: 0.8389\n",
      "Epoch 13/20\n",
      "240/240 [==============================] - 0s 146us/step - loss: 0.2268 - acc: 0.8500 - val_loss: 0.3513 - val_acc: 0.8222\n",
      "Epoch 14/20\n",
      "240/240 [==============================] - 0s 217us/step - loss: 0.2206 - acc: 0.8528 - val_loss: 0.2625 - val_acc: 0.8333\n",
      "Epoch 15/20\n",
      "240/240 [==============================] - 0s 179us/step - loss: 0.2187 - acc: 0.8472 - val_loss: 0.2576 - val_acc: 0.8333\n",
      "Epoch 16/20\n",
      "240/240 [==============================] - 0s 183us/step - loss: 0.2206 - acc: 0.8500 - val_loss: 0.2693 - val_acc: 0.8444\n",
      "Epoch 17/20\n",
      "240/240 [==============================] - 0s 292us/step - loss: 0.2565 - acc: 0.8236 - val_loss: 0.2727 - val_acc: 0.8389\n",
      "Epoch 18/20\n",
      "240/240 [==============================] - 0s 150us/step - loss: 0.2974 - acc: 0.8069 - val_loss: 0.2642 - val_acc: 0.8444\n",
      "Epoch 19/20\n",
      "240/240 [==============================] - 0s 208us/step - loss: 0.2375 - acc: 0.8167 - val_loss: 0.2642 - val_acc: 0.8389\n",
      "Epoch 20/20\n",
      "240/240 [==============================] - 0s 129us/step - loss: 0.2288 - acc: 0.8306 - val_loss: 0.2653 - val_acc: 0.8167\n"
     ]
    }
   ],
   "source": [
    "history = model.fit(x_train, y_train,\n",
    "                    batch_size=16,\n",
    "                    epochs=20,\n",
    "                    verbose=1,\n",
    "                    validation_data=[x_test, y_test]\n",
    "                   )"
   ]
  },
  {
   "cell_type": "markdown",
   "metadata": {},
   "source": [
    "**Answer:** We see that we get a validation accuracy of 0.8833"
   ]
  }
 ],
 "metadata": {
  "kernelspec": {
   "display_name": "Python 3",
   "language": "python",
   "name": "python3"
  },
  "language_info": {
   "codemirror_mode": {
    "name": "ipython",
    "version": 3
   },
   "file_extension": ".py",
   "mimetype": "text/x-python",
   "name": "python",
   "nbconvert_exporter": "python",
   "pygments_lexer": "ipython3",
   "version": "3.7.3"
  }
 },
 "nbformat": 4,
 "nbformat_minor": 2
}
