{
 "cells": [
  {
   "cell_type": "markdown",
   "metadata": {},
   "source": [
    "## S89A DL for NLP\n",
    "## `Assignment 01`    \t\n",
    "## Handed out: 06/24/2019                             \n",
    "## Due by 4:00 PM EST on Tuesday, 07/02/2019\n",
    "## Submitted by: Saurabh Kulkarni"
   ]
  },
  {
   "cell_type": "markdown",
   "metadata": {},
   "source": [
    "### INSTRUCTION: \n",
    "\n",
    "Please, describe every step of your work and present all intermediate and final results in a Word document. If you know how, please be free to organize your submission in one Jupyter notebook.  Please, copy-past text (ASCII) version of all essential commands and snippets of results into the Word document with explanations of the purpose of those commands. We cannot retype text that is in JPG images. Please, always submit a separate copy of the original, working scripts and/or class files you used. Sometimes we need to run your code and retyping is too costly. Please include in your MS Word document all the relevant portions of the console output or output files. PLEASE DO NOT EMBED files into your MS Word document. For issues and comments visit the class Piazza site."
   ]
  },
  {
   "cell_type": "code",
   "execution_count": 107,
   "metadata": {},
   "outputs": [],
   "source": [
    "## Import packages\n",
    "import numpy as np\n",
    "import pandas as pd\n",
    "import matplotlib.pyplot as plt\n",
    "import nltk\n",
    "from keras import Sequential\n",
    "from keras.layers import Dense\n",
    "from sklearn.metrics import r2_score\n",
    "import collections\n",
    "from nltk.corpus import wordnet as wn"
   ]
  },
  {
   "cell_type": "markdown",
   "metadata": {},
   "source": [
    "### Problem 1 (25%).\n",
    "Use the text of the Universal Declaration of Human Rights (UDHR). Create a table for 4 languages of your choice. Use that table to collect statistics about those languages. Place in that table the number of words in UDHR in each language, number of unique words, average length of words, number of sentences contained in UDHR and average number of words per sentence. You do not have to populate the table from your code. You may, but you may also determine individual values separately and enter them in the table manually.  Create a distribution of sentence lengths for all four language. Distribution of sentence lengths presents the number of sentences of varying length. Plot those (non-cumulative) distributions for all four languages using one diagram. \n"
   ]
  },
  {
   "cell_type": "markdown",
   "metadata": {},
   "source": [
    "### Solution 1:"
   ]
  },
  {
   "cell_type": "code",
   "execution_count": 68,
   "metadata": {},
   "outputs": [],
   "source": [
    "from nltk.corpus import udhr"
   ]
  },
  {
   "cell_type": "code",
   "execution_count": 3,
   "metadata": {},
   "outputs": [
    {
     "data": {
      "text/plain": [
       "['Abkhaz-Cyrillic+Abkh',\n",
       " 'Abkhaz-UTF8',\n",
       " 'Achehnese-Latin1',\n",
       " 'Achuar-Shiwiar-Latin1',\n",
       " 'Adja-UTF8',\n",
       " 'Afaan_Oromo_Oromiffa-Latin1',\n",
       " 'Afrikaans-Latin1',\n",
       " 'Aguaruna-Latin1',\n",
       " 'Akuapem_Twi-UTF8',\n",
       " 'Albanian_Shqip-Latin1',\n",
       " 'Amahuaca',\n",
       " 'Amahuaca-Latin1',\n",
       " 'Amarakaeri-Latin1',\n",
       " 'Amuesha-Yanesha-UTF8',\n",
       " 'Arabela-Latin1',\n",
       " 'Arabic_Alarabia-Arabic',\n",
       " 'Asante-UTF8',\n",
       " 'Ashaninca-Latin1',\n",
       " 'Asheninca-Latin1',\n",
       " 'Asturian_Bable-Latin1',\n",
       " 'Aymara-Latin1',\n",
       " 'Balinese-Latin1',\n",
       " 'Bambara-UTF8',\n",
       " 'Baoule-UTF8',\n",
       " 'Basque_Euskara-Latin1',\n",
       " 'Batonu_Bariba-UTF8',\n",
       " 'Belorus_Belaruski-Cyrillic',\n",
       " 'Belorus_Belaruski-UTF8',\n",
       " 'Bemba-Latin1',\n",
       " 'Bengali-UTF8',\n",
       " 'Beti-UTF8',\n",
       " 'Bichelamar-Latin1',\n",
       " 'Bikol_Bicolano-Latin1',\n",
       " 'Bora-Latin1',\n",
       " 'Bosnian_Bosanski-Cyrillic',\n",
       " 'Bosnian_Bosanski-Latin2',\n",
       " 'Bosnian_Bosanski-UTF8',\n",
       " 'Breton-Latin1',\n",
       " 'Bugisnese-Latin1',\n",
       " 'Bulgarian_Balgarski-Cyrillic',\n",
       " 'Bulgarian_Balgarski-UTF8',\n",
       " 'Cakchiquel-Latin1',\n",
       " 'Campa_Pajonalino-Latin1',\n",
       " 'Candoshi-Shapra-Latin1',\n",
       " 'Caquinte-Latin1',\n",
       " 'Cashibo-Cacataibo-Latin1',\n",
       " 'Cashinahua-Latin1',\n",
       " 'Catalan-Latin1',\n",
       " 'Catalan_Catala-Latin1',\n",
       " 'Cebuano-Latin1',\n",
       " 'Chamorro-Latin1',\n",
       " 'Chayahuita-Latin1',\n",
       " 'Chechewa_Nyanja-Latin1',\n",
       " 'Chickasaw-Latin1',\n",
       " 'Chinanteco-Ajitlan-Latin1',\n",
       " 'Chinanteco-UTF8',\n",
       " 'Chinese_Mandarin-GB2312',\n",
       " 'Chuuk_Trukese-Latin1',\n",
       " 'Cokwe-Latin1',\n",
       " 'Corsican-Latin1',\n",
       " 'Croatian_Hrvatski-Latin2',\n",
       " 'Czech-Latin2',\n",
       " 'Czech-UTF8',\n",
       " 'Czech_Cesky-Latin2',\n",
       " 'Czech_Cesky-UTF8',\n",
       " 'Dagaare-UTF8',\n",
       " 'Dagbani-UTF8',\n",
       " 'Dangme-UTF8',\n",
       " 'Danish_Dansk-Latin1',\n",
       " 'Dendi-UTF8',\n",
       " 'Ditammari-UTF8',\n",
       " 'Dutch_Nederlands-Latin1',\n",
       " 'Edo-Latin1',\n",
       " 'English-Latin1',\n",
       " 'Esperanto-UTF8',\n",
       " 'Estonian_Eesti-Latin1',\n",
       " 'Ewe_Eve-UTF8',\n",
       " 'Fante-UTF8',\n",
       " 'Faroese-Latin1',\n",
       " 'Farsi_Persian-UTF8',\n",
       " 'Farsi_Persian-v2-UTF8',\n",
       " 'Fijian-Latin1',\n",
       " 'Filipino_Tagalog-Latin1',\n",
       " 'Finnish_Suomi-Latin1',\n",
       " 'Fon-UTF8',\n",
       " 'French_Francais-Latin1',\n",
       " 'Frisian-Latin1',\n",
       " 'Friulian_Friulano-Latin1',\n",
       " 'Ga-UTF8',\n",
       " 'Gagauz_Gagauzi-UTF8',\n",
       " 'Galician_Galego-Latin1',\n",
       " 'Garifuna_Garifuna-Latin1',\n",
       " 'German_Deutsch-Latin1',\n",
       " 'Gonja-UTF8',\n",
       " 'Greek_Ellinika-Greek',\n",
       " 'Greek_Ellinika-UTF8',\n",
       " 'Greenlandic_Inuktikut-Latin1',\n",
       " 'Guarani-Latin1',\n",
       " 'Guen_Mina-UTF8',\n",
       " 'HaitianCreole_Kreyol-Latin1',\n",
       " 'HaitianCreole_Popular-Latin1',\n",
       " 'Hani-Latin1',\n",
       " 'Hausa_Haoussa-Latin1',\n",
       " 'Hawaiian-UTF8',\n",
       " 'Hebrew_Ivrit-Hebrew',\n",
       " 'Hebrew_Ivrit-UTF8',\n",
       " 'Hiligaynon-Latin1',\n",
       " 'Hindi-UTF8',\n",
       " 'Hindi_web-UTF8',\n",
       " 'Hmong_Miao-Sichuan-Guizhou-Yunnan-Latin1',\n",
       " 'Hmong_Miao-SouthernEast-Guizhou-Latin1',\n",
       " 'Hmong_Miao_Northern-East-Guizhou-Latin1',\n",
       " 'Hrvatski_Croatian-Latin2',\n",
       " 'Huasteco-Latin1',\n",
       " 'Huitoto_Murui-Latin1',\n",
       " 'Hungarian_Magyar-Latin1',\n",
       " 'Hungarian_Magyar-Latin2',\n",
       " 'Hungarian_Magyar-UTF8',\n",
       " 'Ibibio_Efik-Latin1',\n",
       " 'Icelandic_Yslenska-Latin1',\n",
       " 'Ido-Latin1',\n",
       " 'Igbo-UTF8',\n",
       " 'Iloko_Ilocano-Latin1',\n",
       " 'Indonesian-Latin1',\n",
       " 'Interlingua-Latin1',\n",
       " 'Inuktikut_Greenlandic-Latin1',\n",
       " 'IrishGaelic_Gaeilge-Latin1',\n",
       " 'Italian-Latin1',\n",
       " 'Italian_Italiano-Latin1',\n",
       " 'Japanese_Nihongo-EUC',\n",
       " 'Japanese_Nihongo-SJIS',\n",
       " 'Japanese_Nihongo-UTF8',\n",
       " 'Javanese-Latin1',\n",
       " 'Jola-Fogny_Diola-UTF8',\n",
       " 'Kabye-UTF8',\n",
       " 'Kannada-UTF8',\n",
       " 'Kaonde-Latin1',\n",
       " 'Kapampangan-Latin1',\n",
       " 'Kasem-UTF8',\n",
       " 'Kazakh-Cyrillic',\n",
       " 'Kazakh-UTF8',\n",
       " 'Kiche_Quiche-Latin1',\n",
       " 'Kicongo-Latin1',\n",
       " 'Kimbundu_Mbundu-Latin1',\n",
       " 'Kinyamwezi_Nyamwezi-Latin1',\n",
       " 'Kinyarwanda-Latin1',\n",
       " 'Kituba-Latin1',\n",
       " 'Korean_Hankuko-UTF8',\n",
       " 'Kpelewo-UTF8',\n",
       " 'Krio-UTF8',\n",
       " 'Kurdish-UTF8',\n",
       " 'Lamnso_Lam-nso-UTF8',\n",
       " 'Latin_Latina-Latin1',\n",
       " 'Latin_Latina-v2-Latin1',\n",
       " 'Latvian-Latin1',\n",
       " 'Limba-UTF8',\n",
       " 'Lingala-Latin1',\n",
       " 'Lithuanian_Lietuviskai-Baltic',\n",
       " 'Lozi-Latin1',\n",
       " 'Luba-Kasai_Tshiluba-Latin1',\n",
       " 'Luganda_Ganda-Latin1',\n",
       " 'Lunda_Chokwe-lunda-Latin1',\n",
       " 'Luvale-Latin1',\n",
       " 'Luxembourgish_Letzebuergeusch-Latin1',\n",
       " 'Macedonian-UTF8',\n",
       " 'Madurese-Latin1',\n",
       " 'Makonde-Latin1',\n",
       " 'Malagasy-Latin1',\n",
       " 'Malay_BahasaMelayu-Latin1',\n",
       " 'Maltese-UTF8',\n",
       " 'Mam-Latin1',\n",
       " 'Maninka-UTF8',\n",
       " 'Maori-Latin1',\n",
       " 'Mapudungun_Mapuzgun-Latin1',\n",
       " 'Mapudungun_Mapuzgun-UTF8',\n",
       " 'Marshallese-Latin1',\n",
       " 'Matses-Latin1',\n",
       " 'Mayan_Yucateco-Latin1',\n",
       " 'Mazahua_Jnatrjo-UTF8',\n",
       " 'Mazateco-Latin1',\n",
       " 'Mende-UTF8',\n",
       " 'Mikmaq_Micmac-Mikmaq-Latin1',\n",
       " 'Minangkabau-Latin1',\n",
       " 'Miskito_Miskito-Latin1',\n",
       " 'Mixteco-Latin1',\n",
       " 'Mongolian_Khalkha-Cyrillic',\n",
       " 'Mongolian_Khalkha-UTF8',\n",
       " 'Moore_More-UTF8',\n",
       " 'Nahuatl-Latin1',\n",
       " 'Ndebele-Latin1',\n",
       " 'Nepali-UTF8',\n",
       " 'Ngangela_Nyemba-Latin1',\n",
       " 'NigerianPidginEnglish-Latin1',\n",
       " 'Nomatsiguenga-Latin1',\n",
       " 'NorthernSotho_Pedi-Sepedi-Latin1',\n",
       " 'Norwegian-Latin1',\n",
       " 'Norwegian_Norsk-Bokmal-Latin1',\n",
       " 'Norwegian_Norsk-Nynorsk-Latin1',\n",
       " 'Nyanja_Chechewa-Latin1',\n",
       " 'Nyanja_Chinyanja-Latin1',\n",
       " 'Nzema-UTF8',\n",
       " 'OccitanAuvergnat-Latin1',\n",
       " 'OccitanLanguedocien-Latin1',\n",
       " 'Oromiffa_AfaanOromo-Latin1',\n",
       " 'Osetin_Ossetian-UTF8',\n",
       " 'Oshiwambo_Ndonga-Latin1',\n",
       " 'Otomi_Nahnu-Latin1',\n",
       " 'Paez-Latin1',\n",
       " 'Palauan-Latin1',\n",
       " 'Peuhl-UTF8',\n",
       " 'Picard-Latin1',\n",
       " 'Pipil-Latin1',\n",
       " 'Polish-Latin2',\n",
       " 'Polish_Polski-Latin2',\n",
       " 'Ponapean-Latin1',\n",
       " 'Portuguese_Portugues-Latin1',\n",
       " 'Pulaar-UTF8',\n",
       " 'Punjabi_Panjabi-UTF8',\n",
       " 'Purhepecha-UTF8',\n",
       " 'Qechi_Kekchi-Latin1',\n",
       " 'Quechua-Latin1',\n",
       " 'Quichua-Latin1',\n",
       " 'Rarotongan_MaoriCookIslands-Latin1',\n",
       " 'Rhaeto-Romance_Rumantsch-Latin1',\n",
       " 'Romani-Latin1',\n",
       " 'Romani-UTF8',\n",
       " 'Romanian-Latin2',\n",
       " 'Romanian_Romana-Latin2',\n",
       " 'Rukonzo_Konjo-Latin1',\n",
       " 'Rundi_Kirundi-Latin1',\n",
       " 'Runyankore-rukiga_Nkore-kiga-Latin1',\n",
       " 'Russian-Cyrillic',\n",
       " 'Russian-UTF8',\n",
       " 'Russian_Russky-Cyrillic',\n",
       " 'Russian_Russky-UTF8',\n",
       " 'Sami_Lappish-UTF8',\n",
       " 'Sammarinese-Latin1',\n",
       " 'Samoan-Latin1',\n",
       " 'Sango_Sangho-Latin1',\n",
       " 'Sanskrit-UTF8',\n",
       " 'Saraiki-UTF8',\n",
       " 'Sardinian-Latin1',\n",
       " 'ScottishGaelic_GaidhligAlbanach-Latin1',\n",
       " 'Seereer-UTF8',\n",
       " 'Serbian_Srpski-Cyrillic',\n",
       " 'Serbian_Srpski-Latin2',\n",
       " 'Serbian_Srpski-UTF8',\n",
       " 'Sharanahua-Latin1',\n",
       " 'Shipibo-Conibo-Latin1',\n",
       " 'Shona-Latin1',\n",
       " 'Sinhala-UTF8',\n",
       " 'Siswati-Latin1',\n",
       " 'Slovak-Latin2',\n",
       " 'Slovak_Slovencina-Latin2',\n",
       " 'Slovenian_Slovenscina-Latin2',\n",
       " 'SolomonsPidgin_Pijin-Latin1',\n",
       " 'Somali-Latin1',\n",
       " 'Soninke_Soninkanxaane-UTF8',\n",
       " 'Sorbian-Latin2',\n",
       " 'SouthernSotho_Sotho-Sesotho-Sutu-Sesutu-Latin1',\n",
       " 'Spanish-Latin1',\n",
       " 'Spanish_Espanol-Latin1',\n",
       " 'Sukuma-Latin1',\n",
       " 'Sundanese-Latin1',\n",
       " 'Sussu_Soussou-Sosso-Soso-Susu-UTF8',\n",
       " 'Swaheli-Latin1',\n",
       " 'Swahili_Kiswahili-Latin1',\n",
       " 'Swedish_Svenska-Latin1',\n",
       " 'Tahitian-UTF8',\n",
       " 'Tenek_Huasteco-Latin1',\n",
       " 'Tetum-Latin1',\n",
       " 'Themne_Temne-UTF8',\n",
       " 'Tiv-Latin1',\n",
       " 'Toba-UTF8',\n",
       " 'Tojol-abal-Latin1',\n",
       " 'TokPisin-Latin1',\n",
       " 'Tonga-Latin1',\n",
       " 'Tongan_Tonga-Latin1',\n",
       " 'Totonaco-Latin1',\n",
       " 'Trukese_Chuuk-Latin1',\n",
       " 'Turkish_Turkce-Turkish',\n",
       " 'Turkish_Turkce-UTF8',\n",
       " 'Tzeltal-Latin1',\n",
       " 'Tzotzil-Latin1',\n",
       " 'Uighur_Uyghur-Latin1',\n",
       " 'Uighur_Uyghur-UTF8',\n",
       " 'Ukrainian-Cyrillic',\n",
       " 'Ukrainian-UTF8',\n",
       " 'Umbundu-Latin1',\n",
       " 'Urarina-Latin1',\n",
       " 'Uzbek-Latin1',\n",
       " 'Vietnamese-ALRN-UTF8',\n",
       " 'Vietnamese-UTF8',\n",
       " 'Vlach-Latin1',\n",
       " 'Walloon_Wallon-Latin1',\n",
       " 'Wama-UTF8',\n",
       " 'Waray-Latin1',\n",
       " 'Wayuu-Latin1',\n",
       " 'Welsh_Cymraeg-Latin1',\n",
       " 'WesternSotho_Tswana-Setswana-Latin1',\n",
       " 'Wolof-Latin1',\n",
       " 'Xhosa-Latin1',\n",
       " 'Yagua-Latin1',\n",
       " 'Yao-Latin1',\n",
       " 'Yapese-Latin1',\n",
       " 'Yoruba-UTF8',\n",
       " 'Zapoteco-Latin1',\n",
       " 'Zapoteco-SanLucasQuiavini-Latin1',\n",
       " 'Zhuang-Latin1',\n",
       " 'Zulu-Latin1']"
      ]
     },
     "execution_count": 3,
     "metadata": {},
     "output_type": "execute_result"
    }
   ],
   "source": [
    "udhr.fileids()"
   ]
  },
  {
   "cell_type": "code",
   "execution_count": 4,
   "metadata": {},
   "outputs": [],
   "source": [
    "lang = ['English-Latin1', 'Hindi-UTF8', 'Kannada-UTF8', 'Hebrew_Ivrit-Hebrew']\n",
    "udhr_stats_dict = {}\n",
    "sents_len_dict = {}\n",
    "\n",
    "for l in lang:\n",
    "    \n",
    "    udhr_words = udhr.words(l)\n",
    "    n_words = len(udhr_words)\n",
    "    n_unique = len(np.unique(udhr_words))\n",
    "\n",
    "    word_len = []\n",
    "    for w in udhr_words:\n",
    "        word_len.append(len(w))\n",
    "\n",
    "    avg_word_len = np.mean(word_len)\n",
    "\n",
    "    udhr_sents = udhr.sents(l)\n",
    "    n_sents = len(udhr_sents)\n",
    "\n",
    "    sent_len = []\n",
    "    for s in udhr_sents:\n",
    "        sent_len.append(len(s))\n",
    "        \n",
    "    sents_len_dict[l] = sent_len\n",
    "\n",
    "    avg_sent_len = np.mean(sent_len)\n",
    "\n",
    "    udhr_stats_dict[l] = [n_words, n_unique, avg_word_len, n_sents, avg_sent_len]"
   ]
  },
  {
   "cell_type": "code",
   "execution_count": 5,
   "metadata": {},
   "outputs": [
    {
     "data": {
      "text/html": [
       "<div>\n",
       "<style scoped>\n",
       "    .dataframe tbody tr th:only-of-type {\n",
       "        vertical-align: middle;\n",
       "    }\n",
       "\n",
       "    .dataframe tbody tr th {\n",
       "        vertical-align: top;\n",
       "    }\n",
       "\n",
       "    .dataframe thead th {\n",
       "        text-align: right;\n",
       "    }\n",
       "</style>\n",
       "<table border=\"1\" class=\"dataframe\">\n",
       "  <thead>\n",
       "    <tr style=\"text-align: right;\">\n",
       "      <th></th>\n",
       "      <th>English-Latin1</th>\n",
       "      <th>Hindi-UTF8</th>\n",
       "      <th>Kannada-UTF8</th>\n",
       "      <th>Hebrew_Ivrit-Hebrew</th>\n",
       "    </tr>\n",
       "  </thead>\n",
       "  <tbody>\n",
       "    <tr>\n",
       "      <th>Total Words</th>\n",
       "      <td>1781.00000</td>\n",
       "      <td>2524.000000</td>\n",
       "      <td>2529.000000</td>\n",
       "      <td>1530.000000</td>\n",
       "    </tr>\n",
       "    <tr>\n",
       "      <th># Unique Words</th>\n",
       "      <td>533.00000</td>\n",
       "      <td>224.000000</td>\n",
       "      <td>278.000000</td>\n",
       "      <td>782.000000</td>\n",
       "    </tr>\n",
       "    <tr>\n",
       "      <th>Avg. Word Length</th>\n",
       "      <td>4.64402</td>\n",
       "      <td>1.236529</td>\n",
       "      <td>1.271649</td>\n",
       "      <td>3.960784</td>\n",
       "    </tr>\n",
       "    <tr>\n",
       "      <th># Sentences</th>\n",
       "      <td>67.00000</td>\n",
       "      <td>8.000000</td>\n",
       "      <td>31.000000</td>\n",
       "      <td>71.000000</td>\n",
       "    </tr>\n",
       "    <tr>\n",
       "      <th>Avg. Sentence Length</th>\n",
       "      <td>26.58209</td>\n",
       "      <td>315.500000</td>\n",
       "      <td>81.580645</td>\n",
       "      <td>21.549296</td>\n",
       "    </tr>\n",
       "  </tbody>\n",
       "</table>\n",
       "</div>"
      ],
      "text/plain": [
       "                      English-Latin1   Hindi-UTF8  Kannada-UTF8  \\\n",
       "Total Words               1781.00000  2524.000000   2529.000000   \n",
       "# Unique Words             533.00000   224.000000    278.000000   \n",
       "Avg. Word Length             4.64402     1.236529      1.271649   \n",
       "# Sentences                 67.00000     8.000000     31.000000   \n",
       "Avg. Sentence Length        26.58209   315.500000     81.580645   \n",
       "\n",
       "                      Hebrew_Ivrit-Hebrew  \n",
       "Total Words                   1530.000000  \n",
       "# Unique Words                 782.000000  \n",
       "Avg. Word Length                 3.960784  \n",
       "# Sentences                     71.000000  \n",
       "Avg. Sentence Length            21.549296  "
      ]
     },
     "execution_count": 5,
     "metadata": {},
     "output_type": "execute_result"
    }
   ],
   "source": [
    "df_ind = ['Total Words', '# Unique Words', 'Avg. Word Length', '# Sentences', 'Avg. Sentence Length']\n",
    "udhr_stats_df = pd.DataFrame(udhr_stats_dict, index=df_ind)\n",
    "udhr_stats_df"
   ]
  },
  {
   "cell_type": "code",
   "execution_count": 6,
   "metadata": {},
   "outputs": [
    {
     "data": {
      "text/plain": [
       "<matplotlib.legend.Legend at 0x7fba3dbf5ba8>"
      ]
     },
     "execution_count": 6,
     "metadata": {},
     "output_type": "execute_result"
    },
    {
     "data": {
      "image/png": "[encoded data removed]",
      "text/plain": [
       "<Figure size 720x504 with 1 Axes>"
      ]
     },
     "metadata": {
      "needs_background": "light"
     },
     "output_type": "display_data"
    }
   ],
   "source": [
    "fig, ax = plt.subplots(1, 1, figsize=(10,7))\n",
    "for l in lang:\n",
    "    ax.hist(sents_len_dict[l], label=l)\n",
    "ax.legend(loc='best')"
   ]
  },
  {
   "cell_type": "markdown",
   "metadata": {},
   "source": [
    "### Problem 2 (25%). \n",
    "Identify 10 most frequently used words longer than 7 characters in the entire corpus of Inaugural Addresses. Do not identify 10 words for every speech but rather 10 words for the entire corpus. Which among those words has the largest number of synonyms? List all synonyms for those 10 words. Which one of those 10 words has the largest number of hyponyms? List all hyponyms of those 10 most frequently used “long” words. The purpose of this problem is to familiarize you with WordNet and concepts of synonyms and hyponyms.\n"
   ]
  },
  {
   "cell_type": "code",
   "execution_count": 79,
   "metadata": {},
   "outputs": [
    {
     "name": "stderr",
     "output_type": "stream",
     "text": [
      "[nltk_data] Downloading package inaugural to /home/srk-\n",
      "[nltk_data]     apts/nltk_data...\n",
      "[nltk_data]   Package inaugural is already up-to-date!\n"
     ]
    }
   ],
   "source": [
    "nltk.download('inaugural')\n",
    "from nltk.corpus import inaugural"
   ]
  },
  {
   "cell_type": "code",
   "execution_count": 80,
   "metadata": {},
   "outputs": [],
   "source": [
    "inaugural_fileids = inaugural.fileids()"
   ]
  },
  {
   "cell_type": "code",
   "execution_count": 91,
   "metadata": {},
   "outputs": [],
   "source": [
    "words = []\n",
    "for f in inaugural_fileids:\n",
    "    words_f = inaugural.words(f)\n",
    "    for w in words_f:\n",
    "        if len(w)>7:\n",
    "            words.append(w.lower())"
   ]
  },
  {
   "cell_type": "code",
   "execution_count": 106,
   "metadata": {},
   "outputs": [],
   "source": [
    "counter = collections.Counter(words)\n",
    "top10_tuples = counter.most_common(10)\n",
    "unzipped = zip(*top10_tuples)\n",
    "top10 = list(list(unzipped)[0])"
   ]
  },
  {
   "cell_type": "code",
   "execution_count": 118,
   "metadata": {},
   "outputs": [
    {
     "name": "stdout",
     "output_type": "stream",
     "text": [
      "government 9\n",
      "citizens 1\n",
      "constitution 17\n",
      "american 3\n",
      "national 5\n",
      "congress 15\n",
      "interests 12\n",
      "political 1\n",
      "executive 3\n",
      "principles 4\n"
     ]
    }
   ],
   "source": [
    "for w in top10:\n",
    "    synonyms = []\n",
    "    for synset in wn.synsets(w):\n",
    "        synonyms = synonyms+synset.lemma_names()\n",
    "    syn_count = len(np.unique(synonyms))\n",
    "    print(w,syn_count)"
   ]
  },
  {
   "cell_type": "code",
   "execution_count": null,
   "metadata": {},
   "outputs": [],
   "source": [
    "for w in top10:\n",
    "    hyponyms = []\n",
    "    for synset in wn.synsets(w):\n",
    "        hyponyms = hyp_count+synset.lemma_names()\n",
    "    hyp_count = len(np.unique(hyponyms))\n",
    "    print(w,hyp_count)"
   ]
  },
  {
   "cell_type": "code",
   "execution_count": null,
   "metadata": {},
   "outputs": [],
   "source": []
  },
  {
   "cell_type": "code",
   "execution_count": null,
   "metadata": {},
   "outputs": [],
   "source": []
  },
  {
   "cell_type": "markdown",
   "metadata": {},
   "source": [
    "### Problem 3. \n",
    "Consider 100 points along the straight line in $(x,y)$ plane represented by the linear equation $y=0.3x+0.2$. Distribute those points along the line uniformly in the interval between -2.0 and 3.0. To the y coordinate of each point add a random normally distributed value with standard deviation of 1 and mean 0. You have created and artificial set of random measurements. Create a shallow neural network with one layer which will be able to predict y value corresponding to any x value in the above interval. Implement and train the network using Keras API. Report on the accuracy of your model. This is a rather trivial problem and you do not need neural networks to solve it. We are practicing Keras API.\n"
   ]
  },
  {
   "cell_type": "code",
   "execution_count": 10,
   "metadata": {},
   "outputs": [],
   "source": [
    "x = np.random.uniform(low=-2.0, high=3.0, size=100)"
   ]
  },
  {
   "cell_type": "code",
   "execution_count": 11,
   "metadata": {},
   "outputs": [],
   "source": [
    "line = 0.3*x + 0.2 \n",
    "noise = np.random.normal(loc=0, scale=1, size=100)\n",
    "y = line+noise"
   ]
  },
  {
   "cell_type": "code",
   "execution_count": 62,
   "metadata": {},
   "outputs": [],
   "source": [
    "np.random.seed(9001)\n",
    "mask = np.random.rand(100) < 0.7 \n",
    "x_train = x[mask]\n",
    "x_test = x[~mask]\n",
    "y_train = y[mask]\n",
    "y_test = y[~mask]"
   ]
  },
  {
   "cell_type": "code",
   "execution_count": 63,
   "metadata": {},
   "outputs": [
    {
     "name": "stdout",
     "output_type": "stream",
     "text": [
      "_________________________________________________________________\n",
      "Layer (type)                 Output Shape              Param #   \n",
      "=================================================================\n",
      "dense_7 (Dense)              (None, 1)                 2         \n",
      "=================================================================\n",
      "Total params: 2\n",
      "Trainable params: 2\n",
      "Non-trainable params: 0\n",
      "_________________________________________________________________\n"
     ]
    }
   ],
   "source": [
    "model = Sequential()\n",
    "# model.add(Dense(2, input_shape=(1,)))\n",
    "model.add(Dense(1, input_shape=(1,)))\n",
    "model.summary()"
   ]
  },
  {
   "cell_type": "code",
   "execution_count": 64,
   "metadata": {},
   "outputs": [],
   "source": [
    "model.compile(optimizer='sgd', loss='mse')"
   ]
  },
  {
   "cell_type": "code",
   "execution_count": 65,
   "metadata": {},
   "outputs": [
    {
     "name": "stdout",
     "output_type": "stream",
     "text": [
      "Train on 64 samples, validate on 36 samples\n",
      "Epoch 1/100\n",
      "64/64 [==============================] - 0s 2ms/step - loss: 4.0574 - val_loss: 3.8524\n",
      "Epoch 2/100\n",
      "64/64 [==============================] - 0s 90us/step - loss: 3.2282 - val_loss: 3.1716\n",
      "Epoch 3/100\n",
      "64/64 [==============================] - 0s 149us/step - loss: 2.6307 - val_loss: 2.6859\n",
      "Epoch 4/100\n",
      "64/64 [==============================] - 0s 113us/step - loss: 2.2207 - val_loss: 2.3368\n",
      "Epoch 5/100\n",
      "64/64 [==============================] - 0s 139us/step - loss: 1.8966 - val_loss: 2.0868\n",
      "Epoch 6/100\n",
      "64/64 [==============================] - 0s 128us/step - loss: 1.6762 - val_loss: 1.9111\n",
      "Epoch 7/100\n",
      "64/64 [==============================] - 0s 123us/step - loss: 1.5219 - val_loss: 1.7830\n",
      "Epoch 8/100\n",
      "64/64 [==============================] - 0s 87us/step - loss: 1.4092 - val_loss: 1.6905\n",
      "Epoch 9/100\n",
      "64/64 [==============================] - 0s 79us/step - loss: 1.3269 - val_loss: 1.6244\n",
      "Epoch 10/100\n",
      "64/64 [==============================] - 0s 120us/step - loss: 1.2685 - val_loss: 1.5758\n",
      "Epoch 11/100\n",
      "64/64 [==============================] - 0s 149us/step - loss: 1.2306 - val_loss: 1.5401\n",
      "Epoch 12/100\n",
      "64/64 [==============================] - 0s 101us/step - loss: 1.1936 - val_loss: 1.5140\n",
      "Epoch 13/100\n",
      "64/64 [==============================] - 0s 140us/step - loss: 1.1724 - val_loss: 1.4941\n",
      "Epoch 14/100\n",
      "64/64 [==============================] - 0s 119us/step - loss: 1.1536 - val_loss: 1.4792\n",
      "Epoch 15/100\n",
      "64/64 [==============================] - 0s 141us/step - loss: 1.1421 - val_loss: 1.4674\n",
      "Epoch 16/100\n",
      "64/64 [==============================] - 0s 143us/step - loss: 1.1335 - val_loss: 1.4586\n",
      "Epoch 17/100\n",
      "64/64 [==============================] - 0s 158us/step - loss: 1.1250 - val_loss: 1.4511\n",
      "Epoch 18/100\n",
      "64/64 [==============================] - 0s 120us/step - loss: 1.1184 - val_loss: 1.4451\n",
      "Epoch 19/100\n",
      "64/64 [==============================] - 0s 118us/step - loss: 1.1221 - val_loss: 1.4401\n",
      "Epoch 20/100\n",
      "64/64 [==============================] - 0s 70us/step - loss: 1.1112 - val_loss: 1.4360\n",
      "Epoch 21/100\n",
      "64/64 [==============================] - 0s 104us/step - loss: 1.1073 - val_loss: 1.4325\n",
      "Epoch 22/100\n",
      "64/64 [==============================] - 0s 137us/step - loss: 1.1038 - val_loss: 1.4294\n",
      "Epoch 23/100\n",
      "64/64 [==============================] - 0s 157us/step - loss: 1.1010 - val_loss: 1.4266\n",
      "Epoch 24/100\n",
      "64/64 [==============================] - 0s 120us/step - loss: 1.0998 - val_loss: 1.4241\n",
      "Epoch 25/100\n",
      "64/64 [==============================] - 0s 100us/step - loss: 1.1004 - val_loss: 1.4219\n",
      "Epoch 26/100\n",
      "64/64 [==============================] - 0s 123us/step - loss: 1.1018 - val_loss: 1.4198\n",
      "Epoch 27/100\n",
      "64/64 [==============================] - 0s 84us/step - loss: 1.0972 - val_loss: 1.4179\n",
      "Epoch 28/100\n",
      "64/64 [==============================] - 0s 191us/step - loss: 1.0978 - val_loss: 1.4165\n",
      "Epoch 29/100\n",
      "64/64 [==============================] - 0s 135us/step - loss: 1.0957 - val_loss: 1.4151\n",
      "Epoch 30/100\n",
      "64/64 [==============================] - 0s 82us/step - loss: 1.0959 - val_loss: 1.4135\n",
      "Epoch 31/100\n",
      "64/64 [==============================] - 0s 121us/step - loss: 1.0942 - val_loss: 1.4121\n",
      "Epoch 32/100\n",
      "64/64 [==============================] - 0s 142us/step - loss: 1.0981 - val_loss: 1.4111\n",
      "Epoch 33/100\n",
      "64/64 [==============================] - 0s 128us/step - loss: 1.0932 - val_loss: 1.4101\n",
      "Epoch 34/100\n",
      "64/64 [==============================] - 0s 112us/step - loss: 1.0957 - val_loss: 1.4091\n",
      "Epoch 35/100\n",
      "64/64 [==============================] - 0s 158us/step - loss: 1.0920 - val_loss: 1.4081\n",
      "Epoch 36/100\n",
      "64/64 [==============================] - 0s 116us/step - loss: 1.0914 - val_loss: 1.4073\n",
      "Epoch 37/100\n",
      "64/64 [==============================] - 0s 98us/step - loss: 1.0927 - val_loss: 1.4066\n",
      "Epoch 38/100\n",
      "64/64 [==============================] - 0s 109us/step - loss: 1.0935 - val_loss: 1.4057\n",
      "Epoch 39/100\n",
      "64/64 [==============================] - 0s 109us/step - loss: 1.0932 - val_loss: 1.4052\n",
      "Epoch 40/100\n",
      "64/64 [==============================] - 0s 127us/step - loss: 1.0911 - val_loss: 1.4046\n",
      "Epoch 41/100\n",
      "64/64 [==============================] - 0s 111us/step - loss: 1.0905 - val_loss: 1.4039\n",
      "Epoch 42/100\n",
      "64/64 [==============================] - 0s 118us/step - loss: 1.0906 - val_loss: 1.4034\n",
      "Epoch 43/100\n",
      "64/64 [==============================] - 0s 124us/step - loss: 1.0907 - val_loss: 1.4028\n",
      "Epoch 44/100\n",
      "64/64 [==============================] - 0s 135us/step - loss: 1.0908 - val_loss: 1.4022\n",
      "Epoch 45/100\n",
      "64/64 [==============================] - 0s 118us/step - loss: 1.0901 - val_loss: 1.4018\n",
      "Epoch 46/100\n",
      "64/64 [==============================] - 0s 151us/step - loss: 1.0909 - val_loss: 1.4012\n",
      "Epoch 47/100\n",
      "64/64 [==============================] - 0s 105us/step - loss: 1.0922 - val_loss: 1.4010\n",
      "Epoch 48/100\n",
      "64/64 [==============================] - 0s 170us/step - loss: 1.0917 - val_loss: 1.4007\n",
      "Epoch 49/100\n",
      "64/64 [==============================] - 0s 134us/step - loss: 1.0910 - val_loss: 1.4005\n",
      "Epoch 50/100\n",
      "64/64 [==============================] - 0s 135us/step - loss: 1.0904 - val_loss: 1.4002\n",
      "Epoch 51/100\n",
      "64/64 [==============================] - 0s 160us/step - loss: 1.0949 - val_loss: 1.3996\n",
      "Epoch 52/100\n",
      "64/64 [==============================] - 0s 111us/step - loss: 1.0913 - val_loss: 1.3994\n",
      "Epoch 53/100\n",
      "64/64 [==============================] - 0s 87us/step - loss: 1.0921 - val_loss: 1.3993\n",
      "Epoch 54/100\n",
      "64/64 [==============================] - 0s 140us/step - loss: 1.0932 - val_loss: 1.3988\n",
      "Epoch 55/100\n",
      "64/64 [==============================] - 0s 134us/step - loss: 1.0894 - val_loss: 1.3987\n",
      "Epoch 56/100\n",
      "64/64 [==============================] - 0s 157us/step - loss: 1.0925 - val_loss: 1.3986\n",
      "Epoch 57/100\n",
      "64/64 [==============================] - 0s 97us/step - loss: 1.0908 - val_loss: 1.3983\n",
      "Epoch 58/100\n",
      "64/64 [==============================] - 0s 124us/step - loss: 1.0929 - val_loss: 1.3982\n",
      "Epoch 59/100\n",
      "64/64 [==============================] - 0s 173us/step - loss: 1.0949 - val_loss: 1.3982\n",
      "Epoch 60/100\n",
      "64/64 [==============================] - 0s 136us/step - loss: 1.0918 - val_loss: 1.3983\n",
      "Epoch 61/100\n",
      "64/64 [==============================] - 0s 115us/step - loss: 1.0903 - val_loss: 1.3979\n",
      "Epoch 62/100\n",
      "64/64 [==============================] - 0s 90us/step - loss: 1.0900 - val_loss: 1.3977\n",
      "Epoch 63/100\n",
      "64/64 [==============================] - 0s 129us/step - loss: 1.0910 - val_loss: 1.3973\n",
      "Epoch 64/100\n",
      "64/64 [==============================] - 0s 110us/step - loss: 1.0899 - val_loss: 1.3973\n",
      "Epoch 65/100\n",
      "64/64 [==============================] - 0s 82us/step - loss: 1.0923 - val_loss: 1.3970\n",
      "Epoch 66/100\n",
      "64/64 [==============================] - 0s 54us/step - loss: 1.0921 - val_loss: 1.3972\n",
      "Epoch 67/100\n",
      "64/64 [==============================] - 0s 71us/step - loss: 1.0924 - val_loss: 1.3968\n",
      "Epoch 68/100\n",
      "64/64 [==============================] - 0s 108us/step - loss: 1.0957 - val_loss: 1.3968\n",
      "Epoch 69/100\n",
      "64/64 [==============================] - 0s 97us/step - loss: 1.0912 - val_loss: 1.3967\n",
      "Epoch 70/100\n",
      "64/64 [==============================] - 0s 126us/step - loss: 1.0917 - val_loss: 1.3968\n",
      "Epoch 71/100\n",
      "64/64 [==============================] - 0s 127us/step - loss: 1.0937 - val_loss: 1.3965\n",
      "Epoch 72/100\n",
      "64/64 [==============================] - 0s 123us/step - loss: 1.0941 - val_loss: 1.3965\n",
      "Epoch 73/100\n",
      "64/64 [==============================] - 0s 141us/step - loss: 1.0936 - val_loss: 1.3963\n",
      "Epoch 74/100\n",
      "64/64 [==============================] - 0s 148us/step - loss: 1.0958 - val_loss: 1.3962\n",
      "Epoch 75/100\n",
      "64/64 [==============================] - 0s 88us/step - loss: 1.0922 - val_loss: 1.3960\n",
      "Epoch 76/100\n",
      "64/64 [==============================] - 0s 121us/step - loss: 1.0978 - val_loss: 1.3963\n",
      "Epoch 77/100\n",
      "64/64 [==============================] - 0s 134us/step - loss: 1.0912 - val_loss: 1.3965\n",
      "Epoch 78/100\n",
      "64/64 [==============================] - 0s 146us/step - loss: 1.0916 - val_loss: 1.3962\n",
      "Epoch 79/100\n",
      "64/64 [==============================] - 0s 108us/step - loss: 1.0914 - val_loss: 1.3964\n",
      "Epoch 80/100\n",
      "64/64 [==============================] - 0s 125us/step - loss: 1.0953 - val_loss: 1.3961\n",
      "Epoch 81/100\n"
     ]
    },
    {
     "name": "stdout",
     "output_type": "stream",
     "text": [
      "64/64 [==============================] - 0s 162us/step - loss: 1.0903 - val_loss: 1.3961\n",
      "Epoch 82/100\n",
      "64/64 [==============================] - 0s 122us/step - loss: 1.0921 - val_loss: 1.3963\n",
      "Epoch 83/100\n",
      "64/64 [==============================] - 0s 149us/step - loss: 1.0904 - val_loss: 1.3964\n",
      "Epoch 84/100\n",
      "64/64 [==============================] - 0s 145us/step - loss: 1.0923 - val_loss: 1.3961\n",
      "Epoch 85/100\n",
      "64/64 [==============================] - 0s 129us/step - loss: 1.0910 - val_loss: 1.3961\n",
      "Epoch 86/100\n",
      "64/64 [==============================] - 0s 134us/step - loss: 1.0908 - val_loss: 1.3959\n",
      "Epoch 87/100\n",
      "64/64 [==============================] - 0s 144us/step - loss: 1.0895 - val_loss: 1.3960\n",
      "Epoch 88/100\n",
      "64/64 [==============================] - 0s 116us/step - loss: 1.0916 - val_loss: 1.3960\n",
      "Epoch 89/100\n",
      "64/64 [==============================] - 0s 148us/step - loss: 1.0897 - val_loss: 1.3959\n",
      "Epoch 90/100\n",
      "64/64 [==============================] - 0s 162us/step - loss: 1.0926 - val_loss: 1.3958\n",
      "Epoch 91/100\n",
      "64/64 [==============================] - 0s 137us/step - loss: 1.0947 - val_loss: 1.3961\n",
      "Epoch 92/100\n",
      "64/64 [==============================] - 0s 125us/step - loss: 1.0908 - val_loss: 1.3962\n",
      "Epoch 93/100\n",
      "64/64 [==============================] - 0s 165us/step - loss: 1.0905 - val_loss: 1.3960\n",
      "Epoch 94/100\n",
      "64/64 [==============================] - 0s 154us/step - loss: 1.0897 - val_loss: 1.3960\n",
      "Epoch 95/100\n",
      "64/64 [==============================] - 0s 140us/step - loss: 1.0917 - val_loss: 1.3962\n",
      "Epoch 96/100\n",
      "64/64 [==============================] - 0s 142us/step - loss: 1.0901 - val_loss: 1.3961\n",
      "Epoch 97/100\n",
      "64/64 [==============================] - 0s 129us/step - loss: 1.0986 - val_loss: 1.3955\n",
      "Epoch 98/100\n",
      "64/64 [==============================] - 0s 137us/step - loss: 1.0916 - val_loss: 1.3956\n",
      "Epoch 99/100\n",
      "64/64 [==============================] - 0s 152us/step - loss: 1.0942 - val_loss: 1.3955\n",
      "Epoch 100/100\n",
      "64/64 [==============================] - 0s 182us/step - loss: 1.0912 - val_loss: 1.3957\n"
     ]
    }
   ],
   "source": [
    "history = model.fit(x_train, y_train,\n",
    "                    batch_size=16,\n",
    "                    epochs=100,\n",
    "                    verbose=1,\n",
    "                    validation_data=[x_test, y_test]\n",
    "                   )"
   ]
  },
  {
   "cell_type": "code",
   "execution_count": 59,
   "metadata": {},
   "outputs": [
    {
     "data": {
      "text/plain": [
       "<matplotlib.collections.PathCollection at 0x7fba14644ba8>"
      ]
     },
     "execution_count": 59,
     "metadata": {},
     "output_type": "execute_result"
    },
    {
     "data": {
      "image/png": "[encoded data removed]",
      "text/plain": [
       "<Figure size 432x288 with 1 Axes>"
      ]
     },
     "metadata": {
      "needs_background": "light"
     },
     "output_type": "display_data"
    }
   ],
   "source": [
    "plt.scatter(x, y)"
   ]
  },
  {
   "cell_type": "code",
   "execution_count": 60,
   "metadata": {},
   "outputs": [],
   "source": [
    "y_pred = model.predict(x_test)"
   ]
  },
  {
   "cell_type": "code",
   "execution_count": 61,
   "metadata": {},
   "outputs": [
    {
     "data": {
      "text/plain": [
       "-0.0011379086751754919"
      ]
     },
     "execution_count": 61,
     "metadata": {},
     "output_type": "execute_result"
    }
   ],
   "source": [
    "r2_score(y_test, y_pred)"
   ]
  },
  {
   "cell_type": "markdown",
   "metadata": {},
   "source": [
    "### Problem 4.  \n",
    "Consider three points in (x,y) plane with coordinates (-2,0), (0,1.7) and (2.1,0). Around each of those three centers create a cloud of 100 randomly generated points. For the radial distance of any one of those points from its center use a random normal distribution.  For the angular coordinate of any one of “cloud” points use the uniform distribution. Once you have generated all three sets of cloud points plot them in the same diagram using three different colors. There should exist some overlap between the clouds. Create a two-layer neural network. Use Keras API. Fit a model that could predict whether a randomly generated point in the plane belongs to cloud 1, centered around (-2,0), cloud 2, centered around (0,1.7) or cloud 3, centered around (2.1,0). You can make that prediction in a much simpler way, however, we are practicing Keras API."
   ]
  },
  {
   "cell_type": "code",
   "execution_count": null,
   "metadata": {},
   "outputs": [],
   "source": []
  },
  {
   "cell_type": "code",
   "execution_count": null,
   "metadata": {},
   "outputs": [],
   "source": []
  },
  {
   "cell_type": "code",
   "execution_count": null,
   "metadata": {},
   "outputs": [],
   "source": []
  },
  {
   "cell_type": "code",
   "execution_count": null,
   "metadata": {},
   "outputs": [],
   "source": []
  }
 ],
 "metadata": {
  "kernelspec": {
   "display_name": "Python 3",
   "language": "python",
   "name": "python3"
  },
  "language_info": {
   "codemirror_mode": {
    "name": "ipython",
    "version": 3
   },
   "file_extension": ".py",
   "mimetype": "text/x-python",
   "name": "python",
   "nbconvert_exporter": "python",
   "pygments_lexer": "ipython3",
   "version": "3.7.3"
  }
 },
 "nbformat": 4,
 "nbformat_minor": 2
}
